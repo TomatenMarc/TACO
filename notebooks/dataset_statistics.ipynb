{
 "cells": [
  {
   "cell_type": "markdown",
   "source": [
    "# Requirements"
   ],
   "metadata": {
    "collapsed": false,
    "pycharm": {
     "name": "#%% md\n"
    },
    "id": "lGwIdYd4uwBR"
   }
  },
  {
   "cell_type": "code",
   "execution_count": null,
   "outputs": [
    {
     "output_type": "stream",
     "name": "stdout",
     "text": [
      "Looking in indexes: https://pypi.org/simple, https://us-python.pkg.dev/colab-wheels/public/simple/\n",
      "Collecting simpledorff==0.0.2\n",
      "  Downloading simpledorff-0.0.2-py3-none-any.whl (5.6 kB)\n",
      "Installing collected packages: simpledorff\n",
      "Successfully installed simpledorff-0.0.2\n",
      "Looking in indexes: https://pypi.org/simple, https://us-python.pkg.dev/colab-wheels/public/simple/\n",
      "Collecting twitter-text-parser==3.0.0\n",
      "  Downloading twitter_text_parser-3.0.0-py3-none-any.whl (69 kB)\n",
      "\u001B[2K     \u001B[90m━━━━━━━━━━━━━━━━━━━━━━━━━━━━━━━━━━━━━━━━\u001B[0m \u001B[32m69.9/69.9 kB\u001B[0m \u001B[31m4.3 MB/s\u001B[0m eta \u001B[36m0:00:00\u001B[0m\n",
      "\u001B[?25hInstalling collected packages: twitter-text-parser\n",
      "Successfully installed twitter-text-parser-3.0.0\n"
     ]
    }
   ],
   "source": [
    "! pip install simpledorff==0.0.2\n",
    "! pip install twitter-text-parser==3.0.0"
   ],
   "metadata": {
    "pycharm": {
     "name": "#%%\n"
    },
    "colab": {
     "base_uri": "https://localhost:8080/"
    },
    "id": "8iZDvrScuwBT",
    "executionInfo": {
     "status": "ok",
     "timestamp": 1686480938661,
     "user_tz": -120,
     "elapsed": 14770,
     "user": {
      "displayName": "Computer Networks HHU",
      "userId": "05668673963966344466"
     }
    },
    "outputId": "cdcfd1bd-5d78-4424-898b-cdeb5c88bda8"
   }
  },
  {
   "cell_type": "code",
   "execution_count": null,
   "outputs": [
    {
     "output_type": "stream",
     "name": "stdout",
     "text": [
      "Mounted at /content/drive\n",
      "/content/drive/MyDrive/Colab Notebooks/Feger/twitter-taco-dataset\n"
     ]
    }
   ],
   "source": [
    "from google.colab import drive\n",
    "drive.mount('/content/drive')\n",
    "%cd /content/drive/MyDrive/Colab Notebooks/Feger/twitter-taco-dataset"
   ],
   "metadata": {
    "pycharm": {
     "name": "#%%\n"
    },
    "colab": {
     "base_uri": "https://localhost:8080/"
    },
    "id": "6u7dEc7QuwBT",
    "executionInfo": {
     "status": "ok",
     "timestamp": 1686480955269,
     "user_tz": -120,
     "elapsed": 16614,
     "user": {
      "displayName": "Computer Networks HHU",
      "userId": "05668673963966344466"
     }
    },
    "outputId": "b376f37d-476b-403b-e437-1baf9e510655"
   }
  },
  {
   "cell_type": "code",
   "execution_count": null,
   "outputs": [],
   "source": [
    "import pandas as pd\n",
    "from tqdm import tqdm; tqdm.pandas()\n",
    "import warnings; warnings.simplefilter(action='ignore', category=FutureWarning)\n",
    "import simpledorff as iaa\n",
    "from collections import Counter\n",
    "import seaborn as sns\n",
    "import matplotlib.pyplot as plt\n",
    "from twitter_text import parse_tweet, extract_urls_with_indices, extract_emojis_with_indices\n",
    "import json\n",
    "from spacy.lang.en import English"
   ],
   "metadata": {
    "pycharm": {
     "name": "#%%\n"
    },
    "id": "Z3cB5Qzqk3xz"
   }
  },
  {
   "cell_type": "code",
   "execution_count": null,
   "outputs": [],
   "source": [
    "df_decisions = pd.read_csv('./data/worker_decisions.csv', index_col='tweet_id')\n",
    "\n",
    "assert df_decisions.information.dtype == 'int'\n",
    "assert set(df_decisions.information.unique()) == {0, 1}\n",
    "\n",
    "assert df_decisions.inference.dtype == 'int'\n",
    "assert set(df_decisions.inference.unique()) == {0, 1}\n",
    "\n",
    "assert df_decisions.confidence.dtype == 'int'\n",
    "assert set(df_decisions.confidence.unique()) == {1, 2, 3}"
   ],
   "metadata": {
    "pycharm": {
     "name": "#%%\n"
    },
    "id": "XYLAAXPYk3xz"
   }
  },
  {
   "cell_type": "code",
   "execution_count": null,
   "outputs": [],
   "source": [
    "df_conversations = pd.read_csv('./data/conversations.csv', index_col='conversation_id')\n",
    "assert df_conversations.parent_id.isin(df_conversations.tweet_id).all()"
   ],
   "metadata": {
    "pycharm": {
     "name": "#%%\n"
    },
    "id": "hdBZ66Krk3x0"
   }
  },
  {
   "cell_type": "code",
   "execution_count": null,
   "outputs": [],
   "source": [
    "df_backup = pd.read_csv('./data/backup_tweets.csv', index_col='tweet_id', lineterminator='\\n')"
   ],
   "metadata": {
    "pycharm": {
     "name": "#%%\n"
    },
    "id": "VZS1N666k3x0"
   }
  },
  {
   "cell_type": "code",
   "execution_count": null,
   "outputs": [],
   "source": [
    "df_conversations = df_conversations.join(df_backup, on='tweet_id')"
   ],
   "metadata": {
    "pycharm": {
     "name": "#%%\n"
    },
    "id": "ymc3GhTck3x1"
   }
  },
  {
   "cell_type": "markdown",
   "source": [
    "# Inter-Annotator-Aggreement"
   ],
   "metadata": {
    "collapsed": false,
    "pycharm": {
     "name": "#%% md\n"
    },
    "id": "2nnOhrYJk3x1"
   }
  },
  {
   "cell_type": "code",
   "execution_count": null,
   "outputs": [],
   "source": [
    "def get_iaa(df, variable):\n",
    "    \"\"\"This method returns the Krippendorff alpha of a given dataframe for the specified variable.\"\"\"\n",
    "    return round(iaa.calculate_krippendorffs_alpha_for_df(df,\n",
    "                                                          experiment_col='tweet_id',\n",
    "                                                          annotator_col='worker',\n",
    "                                                          class_col=variable), 3)"
   ],
   "metadata": {
    "pycharm": {
     "name": "#%%\n"
    },
    "id": "1uVjAjwgk3x1"
   }
  },
  {
   "cell_type": "code",
   "execution_count": null,
   "outputs": [],
   "source": [
    "NONE = \"None\"\n",
    "NOTIFICATION = \"Notification\"\n",
    "STATEMENT = \"Statement\"\n",
    "REASON = \"Reason\"\n",
    "\n",
    "order_of_label = [REASON, STATEMENT, NOTIFICATION, NONE]\n",
    "\n",
    "def aggregate_classes(row):\n",
    "    \"\"\"This method aggregates the proposed classes by their constituting elements.\"\"\"\n",
    "    has_information = row[\"information\"]\n",
    "    has_inference = row[\"inference\"]\n",
    "\n",
    "    if not has_information and not has_inference:\n",
    "        return NONE\n",
    "    if has_information and not has_inference:\n",
    "        return NOTIFICATION\n",
    "    if not has_information and has_inference:\n",
    "        return STATEMENT\n",
    "    if has_information and has_inference:\n",
    "        return REASON\n",
    "    return \"ERROR\""
   ],
   "metadata": {
    "pycharm": {
     "name": "#%%\n"
    },
    "id": "_3AujXczk3x2"
   }
  },
  {
   "cell_type": "code",
   "execution_count": null,
   "outputs": [
    {
     "output_type": "stream",
     "name": "stderr",
     "text": [
      "100%|██████████| 6342/6342 [00:00<00:00, 100184.84it/s]\n"
     ]
    }
   ],
   "source": [
    "# for each worker individually add the observed class.\n",
    "df_decisions['class'] = df_decisions.progress_apply(lambda row: aggregate_classes(row), axis=1)"
   ],
   "metadata": {
    "pycharm": {
     "name": "#%%\n"
    },
    "colab": {
     "base_uri": "https://localhost:8080/"
    },
    "id": "p-mPn-wMk3x2",
    "executionInfo": {
     "status": "ok",
     "timestamp": 1686480987683,
     "user_tz": -120,
     "elapsed": 10,
     "user": {
      "displayName": "Computer Networks HHU",
      "userId": "05668673963966344466"
     }
    },
    "outputId": "2b6fffd5-54c7-4591-ad7e-66e6e16b0da6"
   }
  },
  {
   "cell_type": "code",
   "execution_count": null,
   "outputs": [],
   "source": [
    "def summarize_annotations(df):\n",
    "    \"\"\"This method returns a summary regarding the IAA of a dataframe holding annotations for information, inference and class.\"\"\"\n",
    "    df = df.copy()\n",
    "    tweets = set(df.index.unique())\n",
    "    workers = set(df.worker.unique())\n",
    "    if 'A' in workers:\n",
    "        workers -= {'E'} # A == E\n",
    "    print('{t} tweets rated by {w} workers'.format(t=len(tweets), w=len(workers)))\n",
    "    for field in ['inference', 'information', 'class']:\n",
    "        df.reset_index(drop=False, inplace=True)\n",
    "        print(f\"Krippendorff's alpha {field}:\", get_iaa(df, field))"
   ],
   "metadata": {
    "pycharm": {
     "name": "#%%\n"
    },
    "id": "TYVU___tk3x3"
   }
  },
  {
   "cell_type": "code",
   "execution_count": null,
   "outputs": [
    {
     "output_type": "stream",
     "name": "stdout",
     "text": [
      "600 tweets rated by 4 workers\n",
      "Krippendorff's alpha inference: 0.614\n",
      "Krippendorff's alpha information: 0.637\n",
      "Krippendorff's alpha class: 0.581\n"
     ]
    }
   ],
   "source": [
    "# overall IAA of phase 1\n",
    "summarize_annotations(df_decisions[df_decisions.worker.isin(['A', 'B', 'C', 'D'])])"
   ],
   "metadata": {
    "pycharm": {
     "name": "#%%\n"
    },
    "colab": {
     "base_uri": "https://localhost:8080/"
    },
    "id": "kgJm-gyIk3x3",
    "executionInfo": {
     "status": "ok",
     "timestamp": 1686480988034,
     "user_tz": -120,
     "elapsed": 358,
     "user": {
      "displayName": "Computer Networks HHU",
      "userId": "05668673963966344466"
     }
    },
    "outputId": "3530a484-52cc-41af-fe82-9df64e46f948"
   }
  },
  {
   "cell_type": "code",
   "execution_count": null,
   "outputs": [
    {
     "output_type": "stream",
     "name": "stdout",
     "text": [
      "1314 tweets rated by 3 workers\n",
      "Krippendorff's alpha inference: 0.869\n",
      "Krippendorff's alpha information: 0.818\n",
      "Krippendorff's alpha class: 0.812\n"
     ]
    }
   ],
   "source": [
    "# overall IAA of phase 2\n",
    "summarize_annotations(df_decisions[df_decisions.worker.isin(['E', 'F', 'G'])])"
   ],
   "metadata": {
    "pycharm": {
     "name": "#%%\n"
    },
    "colab": {
     "base_uri": "https://localhost:8080/"
    },
    "id": "8DffEvKLk3x3",
    "executionInfo": {
     "status": "ok",
     "timestamp": 1686480988417,
     "user_tz": -120,
     "elapsed": 390,
     "user": {
      "displayName": "Computer Networks HHU",
      "userId": "05668673963966344466"
     }
    },
    "outputId": "6cf5dac6-f6af-4eeb-fb90-e159f59df773"
   }
  },
  {
   "cell_type": "code",
   "execution_count": null,
   "outputs": [
    {
     "output_type": "stream",
     "name": "stdout",
     "text": [
      "Results phase 1:\n",
      "100 tweets rated by 4 workers\n",
      "Krippendorff's alpha inference: 1.0\n",
      "Krippendorff's alpha information: 1.0\n",
      "Krippendorff's alpha class: 1.0\n",
      "Results phase 2:\n",
      "100 tweets rated by 3 workers\n",
      "Krippendorff's alpha inference: 0.894\n",
      "Krippendorff's alpha information: 0.91\n",
      "Krippendorff's alpha class: 0.884\n"
     ]
    }
   ],
   "source": [
    "# 100 controll tweets between phase 1 and 2\n",
    "df_p1 = df_decisions[df_decisions.worker.isin(['A', 'B', 'C', 'D'])]\n",
    "df_p2 = df_decisions[df_decisions.worker.isin(['E', 'F', 'G'])]\n",
    "# select the starters that where annotated in phase 1 and 2.\n",
    "df_p2 = df_p2[df_p2.index.isin(df_p1.index)]\n",
    "df_p1 = df_p1[df_p1.index.isin(df_p2.index)]\n",
    "# tweets in phase 1 == phase 2\n",
    "assert sorted(df_p1.index.unique()) == sorted(df_p2.index.unique())\n",
    "assert df_p1.index.unique().shape[0] == 100\n",
    "assert df_p2.index.unique().shape[0] == 100\n",
    "\n",
    "print('Results phase 1:')\n",
    "summarize_annotations(df_p1)\n",
    "print('Results phase 2:')\n",
    "summarize_annotations(df_p2)"
   ],
   "metadata": {
    "pycharm": {
     "name": "#%%\n"
    },
    "colab": {
     "base_uri": "https://localhost:8080/"
    },
    "id": "fYGYrzC3k3x4",
    "executionInfo": {
     "status": "ok",
     "timestamp": 1686480988803,
     "user_tz": -120,
     "elapsed": 394,
     "user": {
      "displayName": "Computer Networks HHU",
      "userId": "05668673963966344466"
     }
    },
    "outputId": "89347736-a3fc-4197-9aab-f6f5c0de6e50"
   }
  },
  {
   "cell_type": "code",
   "execution_count": null,
   "outputs": [],
   "source": [
    "# A and E share votes (double votes between the phases)\n",
    "assert df_decisions[df_decisions.worker == 'A'].index.isin(df_decisions[df_decisions.worker == 'E'].index).any()\n",
    "# remove duplicate votes for A == E\n",
    "df_no_double_votes = df_decisions[~((df_decisions.index.isin(df_p2.index)) & (df_decisions.worker =='E'))]\n",
    "assert df_no_double_votes.shape[0] == df_decisions.shape[0] - 100\n",
    "assert not df_no_double_votes[df_no_double_votes.worker == 'A'].index.isin(df_no_double_votes[df_no_double_votes.worker == 'E'].index).any()\n",
    "# Assign the remaining votes of E to A.\n",
    "df_no_double_votes.loc[df_no_double_votes.worker=='E', 'worker'] = 'A'\n",
    "assert df_no_double_votes.worker.isin(['A', 'B', 'C', 'D', 'F', 'G']).all()"
   ],
   "metadata": {
    "pycharm": {
     "name": "#%%\n"
    },
    "id": "bOk2H3IXk3x4"
   }
  },
  {
   "cell_type": "code",
   "execution_count": null,
   "outputs": [
    {
     "output_type": "stream",
     "name": "stdout",
     "text": [
      "1814 tweets rated by 6 workers\n",
      "Krippendorff's alpha inference: 0.756\n",
      "Krippendorff's alpha information: 0.758\n",
      "Krippendorff's alpha class: 0.718\n"
     ]
    }
   ],
   "source": [
    "df_decisions = df_no_double_votes.copy()\n",
    "# overall IAA\n",
    "summarize_annotations(df_decisions)"
   ],
   "metadata": {
    "pycharm": {
     "name": "#%%\n"
    },
    "colab": {
     "base_uri": "https://localhost:8080/"
    },
    "id": "aJARn5dmk3x5",
    "executionInfo": {
     "status": "ok",
     "timestamp": 1686480989314,
     "user_tz": -120,
     "elapsed": 514,
     "user": {
      "displayName": "Computer Networks HHU",
      "userId": "05668673963966344466"
     }
    },
    "outputId": "818cf3de-07b9-4f19-f4a0-77a0fc5b043d"
   }
  },
  {
   "cell_type": "markdown",
   "source": [
    "# Majority Aggregation"
   ],
   "metadata": {
    "collapsed": false,
    "pycharm": {
     "name": "#%% md\n"
    },
    "id": "I1IWng7qk3x5"
   }
  },
  {
   "cell_type": "code",
   "execution_count": null,
   "outputs": [
    {
     "output_type": "stream",
     "name": "stderr",
     "text": [
      "100%|██████████| 1814/1814 [00:00<00:00, 2073.25it/s]\n"
     ]
    }
   ],
   "source": [
    "UNDECIDED = 'Undecided'\n",
    "# create majority votes\n",
    "unique_index = df_decisions.index.unique()\n",
    "decisions = list()\n",
    "for tweet_id in tqdm(unique_index, total=unique_index.shape[0]):\n",
    "    # get each annotator vote by the tweet_id\n",
    "    row = df_decisions.loc[tweet_id]\n",
    "    votes = row['class'].values\n",
    "    assert len(votes) <= 6\n",
    "    assert not 'E' in row.worker\n",
    "    confidences = row['confidence'].values\n",
    "    # count the class votes for majority vote\n",
    "    counter = Counter({\n",
    "        REASON : 0,\n",
    "        STATEMENT : 0,\n",
    "        NOTIFICATION : 0,\n",
    "        NONE : 0})\n",
    "    counter.update(votes)\n",
    "    majority_vote = counter.most_common(1)[0]\n",
    "\n",
    "    # add each majority decision.\n",
    "    decision = {\n",
    "        'tweet_id' : tweet_id,\n",
    "        'topic' : row.topic.unique()[0],\n",
    "        # the majority vote as class label\n",
    "        'class': majority_vote[0],\n",
    "        # given all votes, the class confidence is the percentage of votes contributing to the resulting majority class\n",
    "        'confidence': round(majority_vote[1]/len(votes), 2)\n",
    "    }\n",
    "    if decision['confidence'] <= 0.5:\n",
    "        decision['class'] = UNDECIDED\n",
    "    \n",
    "    decisions += [decision]\n",
    "# Write the majority labels to a dataframe\n",
    "df_majority = pd.DataFrame(decisions)\n",
    "\n",
    "df_majority = df_majority.set_index('tweet_id')\n",
    "df_majority.to_csv('./data/majority_votes.csv')"
   ],
   "metadata": {
    "pycharm": {
     "name": "#%%\n"
    },
    "colab": {
     "base_uri": "https://localhost:8080/"
    },
    "id": "uw1aE8LDk3x5",
    "executionInfo": {
     "status": "ok",
     "timestamp": 1686480990579,
     "user_tz": -120,
     "elapsed": 1273,
     "user": {
      "displayName": "Computer Networks HHU",
      "userId": "05668673963966344466"
     }
    },
    "outputId": "6099913d-87c7-4722-fe17-396db3942577"
   }
  },
  {
   "cell_type": "code",
   "execution_count": null,
   "outputs": [
    {
     "output_type": "execute_result",
     "data": {
      "text/plain": [
       "class\n",
       "None            369\n",
       "Notification    500\n",
       "Reason          581\n",
       "Statement       284\n",
       "Undecided        80\n",
       "Name: topic, dtype: int64"
      ]
     },
     "metadata": {},
     "execution_count": 18
    }
   ],
   "source": [
    "# class distribution\n",
    "df_majority.groupby('class')['topic'].count()"
   ],
   "metadata": {
    "pycharm": {
     "name": "#%%\n"
    },
    "colab": {
     "base_uri": "https://localhost:8080/"
    },
    "id": "cnv-gc0_k3x6",
    "executionInfo": {
     "status": "ok",
     "timestamp": 1686480990579,
     "user_tz": -120,
     "elapsed": 9,
     "user": {
      "displayName": "Computer Networks HHU",
      "userId": "05668673963966344466"
     }
    },
    "outputId": "bf0e5038-2faa-4506-e3cc-1406280478cb"
   }
  },
  {
   "cell_type": "code",
   "execution_count": null,
   "outputs": [
    {
     "output_type": "execute_result",
     "data": {
      "text/plain": [
       "confidence\n",
       "0.33     1.0\n",
       "0.50     4.0\n",
       "0.67    15.0\n",
       "0.75    13.0\n",
       "0.83     0.0\n",
       "1.00    67.0\n",
       "Name: topic, dtype: float64"
      ]
     },
     "metadata": {},
     "execution_count": 19
    }
   ],
   "source": [
    "# confidence distribution\n",
    "100 * round(df_majority.groupby('confidence')['topic'].count()/df_majority.shape[0], 2)"
   ],
   "metadata": {
    "pycharm": {
     "name": "#%%\n"
    },
    "colab": {
     "base_uri": "https://localhost:8080/"
    },
    "id": "MY6XLa-hk3x6",
    "executionInfo": {
     "status": "ok",
     "timestamp": 1686480990579,
     "user_tz": -120,
     "elapsed": 5,
     "user": {
      "displayName": "Computer Networks HHU",
      "userId": "05668673963966344466"
     }
    },
    "outputId": "f240aa13-31fd-48a8-c77a-a9da0edc31c1"
   }
  },
  {
   "cell_type": "markdown",
   "source": [
    "# Structural Statistics"
   ],
   "metadata": {
    "collapsed": false,
    "pycharm": {
     "name": "#%% md\n"
    },
    "id": "q8LlpRwHk3x6"
   }
  },
  {
   "cell_type": "code",
   "execution_count": null,
   "outputs": [
    {
     "output_type": "stream",
     "name": "stderr",
     "text": [
      "100%|██████████| 602664/602664 [00:13<00:00, 45067.39it/s]\n",
      "100%|██████████| 602664/602664 [00:10<00:00, 55450.09it/s]\n",
      "100%|██████████| 602664/602664 [00:14<00:00, 41057.94it/s]\n"
     ]
    }
   ],
   "source": [
    "TOP_LEVEL = \"top-level\"\n",
    "CONVERSATION_LEVEL = \"conversation-level\"\n",
    "\n",
    "ROOT_TWEET = \"root\"\n",
    "STARTER_TWEET = \"starter\"\n",
    "REPLY_TWEET = \"reply\"\n",
    "DEAD_END_TWEET = \"dead-end\"\n",
    "\n",
    "def get_level_tag(row):\n",
    "    \"\"\"Given a row having a tweets' id as name, the parent_id and conversation_id, this method returns the corresponding conversation-level.\"\"\"\n",
    "    if row.name == row.parent_id == row.tweet_id:\n",
    "        return TOP_LEVEL\n",
    "    else:\n",
    "        return CONVERSATION_LEVEL\n",
    "\n",
    "def get_role_tag(row):\n",
    "    \"\"\"Given a row having a tweets' id, the parent_id and conversation_id, this method returns the role of a tweet in its' conversation.\"\"\"\n",
    "    if row.level == TOP_LEVEL:\n",
    "        if row.conversation_size > 1:\n",
    "            return STARTER_TWEET\n",
    "        return ROOT_TWEET\n",
    "    else:\n",
    "        if row.parent_id == row.tweet_id:\n",
    "            return DEAD_END_TWEET\n",
    "        return REPLY_TWEET\n",
    "\n",
    "def add_information(df):\n",
    "    \"\"\"Given a dataframe having conversational tweets as specified in G, this will add relevant graph information.\"\"\"\n",
    "    df_conversation_sizes = df.reset_index().groupby('conversation_id').tweet_id.count()\n",
    "    df['conversation_size'] = df.progress_apply(lambda row: df_conversation_sizes.loc[row.name], axis=1)\n",
    "    df['level'] = df.progress_apply(lambda row: get_level_tag(row), axis=1)\n",
    "    df['role'] = df.progress_apply(lambda row: get_role_tag(row), axis=1)\n",
    "    return df\n",
    "\n",
    "df_conversations = add_information(df_conversations)"
   ],
   "metadata": {
    "pycharm": {
     "name": "#%%\n"
    },
    "colab": {
     "base_uri": "https://localhost:8080/"
    },
    "id": "I7Wqutxrk3x7",
    "executionInfo": {
     "status": "ok",
     "timestamp": 1686481029653,
     "user_tz": -120,
     "elapsed": 39076,
     "user": {
      "displayName": "Computer Networks HHU",
      "userId": "05668673963966344466"
     }
    },
    "outputId": "4e5ee4c0-e4d8-4682-8db7-8df7603a12f4"
   }
  },
  {
   "cell_type": "code",
   "execution_count": null,
   "outputs": [
    {
     "output_type": "stream",
     "name": "stdout",
     "text": [
      "                    count  percent\n",
      "abortion          29939.0      5.0\n",
      "brexit           427260.0     70.9\n",
      "got               61705.0     10.2\n",
      "lotrrop           14014.0      2.3\n",
      "squidgame         51215.0      8.5\n",
      "twittertakeover   18531.0      3.1\n",
      "total            602664.0    100.0 \n",
      "\n",
      "                       count  percent\n",
      "conversation-level  429420.0     71.3\n",
      "top-level           173244.0     28.7\n",
      "total               602664.0    100.0 \n",
      "\n",
      "             count  percent\n",
      "dead-end   40537.0      6.7\n",
      "reply     388883.0     64.5\n",
      "root      140592.0     23.3\n",
      "starter    32652.0      5.4\n",
      "total     602664.0     99.9 \n",
      "\n"
     ]
    }
   ],
   "source": [
    "def summarize_conversations(df, variables=['topic', 'level', 'role'], global_summary=False):\n",
    "    \"\"\"This method summarizes the structure of conversations.\"\"\"\n",
    "    if global_summary:\n",
    "        print(df.groupby(['topic'])['conversation_id'].count())\n",
    "    else:\n",
    "        for variable in variables:\n",
    "            df_var = df.reset_index().groupby(variable).count()['tweet_id']\n",
    "            df_var = df_var.to_frame('count')\n",
    "            df_var['percent'] = 100 * round(df_var / df_var.sum(), 3)\n",
    "            new_row = pd.Series(data=df_var.sum(), name='total')\n",
    "            df_var = pd.concat([df_var, new_row.to_frame().T])\n",
    "            print(df_var, '\\n')\n",
    "\n",
    "summarize_conversations(df_conversations)"
   ],
   "metadata": {
    "pycharm": {
     "name": "#%%\n"
    },
    "colab": {
     "base_uri": "https://localhost:8080/"
    },
    "id": "YO-Yw2jvk3x7",
    "executionInfo": {
     "status": "ok",
     "timestamp": 1686481030987,
     "user_tz": -120,
     "elapsed": 1337,
     "user": {
      "displayName": "Computer Networks HHU",
      "userId": "05668673963966344466"
     }
    },
    "outputId": "887e0183-2097-4528-df98-2c1b8a19be7d"
   }
  },
  {
   "cell_type": "code",
   "execution_count": null,
   "outputs": [
    {
     "output_type": "stream",
     "name": "stdout",
     "text": [
      "+++++++ Summary of all sampled tweets +++++++\n",
      "                  count  percent\n",
      "abortion          486.0     26.8\n",
      "brexit            535.0     29.5\n",
      "got               192.0     10.6\n",
      "lotrrop           209.0     11.5\n",
      "squidgame         226.0     12.5\n",
      "twittertakeover   166.0      9.2\n",
      "total            1814.0    100.1 \n",
      "\n",
      "                     count  percent\n",
      "conversation-level  1114.0     61.4\n",
      "top-level            700.0     38.6\n",
      "total               1814.0    100.0 \n",
      "\n",
      "           count  percent\n",
      "dead-end    91.0      5.0\n",
      "reply     1023.0     56.4\n",
      "starter    700.0     38.6\n",
      "total     1814.0    100.0 \n",
      "\n",
      "+++++++ Summary of sampled top-level tweets +++++++\n",
      "                 count  percent\n",
      "abortion         300.0     42.9\n",
      "brexit           300.0     42.9\n",
      "got               25.0      3.6\n",
      "lotrrop           25.0      3.6\n",
      "squidgame         25.0      3.6\n",
      "twittertakeover   25.0      3.6\n",
      "total            700.0    100.2 \n",
      "\n",
      "           count  percent\n",
      "top-level  700.0    100.0\n",
      "total      700.0    100.0 \n",
      "\n",
      "         count  percent\n",
      "starter  700.0    100.0\n",
      "total    700.0    100.0 \n",
      "\n",
      "+++++++ Summary of sampled conversation-level tweets +++++++\n",
      "                  count  percent\n",
      "abortion          186.0     16.7\n",
      "brexit            235.0     21.1\n",
      "got               167.0     15.0\n",
      "lotrrop           184.0     16.5\n",
      "squidgame         201.0     18.0\n",
      "twittertakeover   141.0     12.7\n",
      "total            1114.0    100.0 \n",
      "\n",
      "                     count  percent\n",
      "conversation-level  1114.0    100.0\n",
      "total               1114.0    100.0 \n",
      "\n",
      "           count  percent\n",
      "dead-end    91.0      8.2\n",
      "reply     1023.0     91.8\n",
      "total     1114.0    100.0 \n",
      "\n",
      "+++++++ Summary of sampled argumentation (by the starter tweets) +++++++\n",
      "                 count  percent\n",
      "abortion          49.0     24.7\n",
      "brexit            49.0     24.7\n",
      "got               25.0     12.6\n",
      "lotrrop           25.0     12.6\n",
      "squidgame         25.0     12.6\n",
      "twittertakeover   25.0     12.6\n",
      "total            198.0     99.8 \n",
      "\n",
      "           count  percent\n",
      "top-level  198.0    100.0\n",
      "total      198.0    100.0 \n",
      "\n",
      "         count  percent\n",
      "starter  198.0    100.0\n",
      "total    198.0    100.0 \n",
      "\n",
      "       count  percent\n",
      "2       62.0     31.3\n",
      "3       27.0     13.6\n",
      "4       15.0      7.6\n",
      "5       17.0      8.6\n",
      "6       10.0      5.1\n",
      "7        9.0      4.5\n",
      "8       10.0      5.1\n",
      "9        3.0      1.5\n",
      "10       8.0      4.0\n",
      "11       9.0      4.5\n",
      "12       1.0      0.5\n",
      "13       5.0      2.5\n",
      "14       4.0      2.0\n",
      "15       1.0      0.5\n",
      "16       2.0      1.0\n",
      "18       3.0      1.5\n",
      "19       2.0      1.0\n",
      "20       1.0      0.5\n",
      "21       2.0      1.0\n",
      "22       1.0      0.5\n",
      "25       2.0      1.0\n",
      "32       1.0      0.5\n",
      "36       1.0      0.5\n",
      "44       1.0      0.5\n",
      "68       1.0      0.5\n",
      "total  198.0     99.8 \n",
      "\n"
     ]
    }
   ],
   "source": [
    "df_argumentation = df_conversations.reset_index().merge(df_majority['class'], on='tweet_id')\n",
    "df_top_level = df_argumentation[df_argumentation.role == STARTER_TWEET]\n",
    "df_conv_level = df_argumentation[df_argumentation.role != STARTER_TWEET]\n",
    "df_top_level_sampled = df_top_level[df_top_level.conversation_id.isin(df_conv_level.conversation_id.unique())]\n",
    "\n",
    "assert all(df_top_level.conversation_size >= 2)\n",
    "assert len(df_argumentation.conversation_id.unique()) == 700\n",
    "\n",
    "print('+++++++ Summary of all sampled tweets +++++++')\n",
    "summarize_conversations(df_argumentation)\n",
    "print('+++++++ Summary of sampled top-level tweets +++++++')\n",
    "summarize_conversations(df_top_level)\n",
    "print('+++++++ Summary of sampled conversation-level tweets +++++++')\n",
    "summarize_conversations(df_conv_level)\n",
    "print('+++++++ Summary of sampled argumentation (by the starter tweets) +++++++')\n",
    "# there were 2 conversations (one for both abortion and brexit) with size 2 but the reply was present but the content was restricted (not deleted).\n",
    "summarize_conversations(df_top_level_sampled, ['topic', 'level', 'role', 'conversation_size'])"
   ],
   "metadata": {
    "pycharm": {
     "name": "#%%\n"
    },
    "colab": {
     "base_uri": "https://localhost:8080/"
    },
    "id": "GRV4rMYSk3x7",
    "executionInfo": {
     "status": "ok",
     "timestamp": 1686481031361,
     "user_tz": -120,
     "elapsed": 377,
     "user": {
      "displayName": "Computer Networks HHU",
      "userId": "05668673963966344466"
     }
    },
    "outputId": "b003c621-a50f-4076-d954-e4e451678076"
   }
  },
  {
   "cell_type": "code",
   "execution_count": null,
   "outputs": [
    {
     "output_type": "stream",
     "name": "stdout",
     "text": [
      "Of all tweets ending a conversation branch:\n",
      "Reason: 29.4 %\n",
      "Statement: 18.83 %\n",
      "Notification: 17.89 %\n",
      "None: 32.79 %\n"
     ]
    }
   ],
   "source": [
    "df_conv_level_clean = df_conv_level[df_conv_level.role == REPLY_TWEET]\n",
    "df_end_tweets = df_conv_level_clean[~df_conv_level_clean.tweet_id.isin(df_conv_level_clean.parent_id)]\n",
    "\n",
    "df_conv_level_dead = df_conv_level[df_conv_level.role == DEAD_END_TWEET]\n",
    "df_conv_level_dead_end = df_conv_level_dead[~df_conv_level_dead.tweet_id.isin(df_conv_level_clean.parent_id)]\n",
    "\n",
    "assert any(df_conv_level_dead.tweet_id.isin(df_conv_level_clean.tweet_id)) == False\n",
    "assert any(df_conv_level_dead_end.tweet_id.isin(df_conv_level_clean.tweet_id)) == False\n",
    "\n",
    "df_end_tweets = pd.concat([df_end_tweets, df_conv_level_dead_end])\n",
    "\n",
    "print('Of all tweets ending a conversation branch:')\n",
    "for cls in [REASON, STATEMENT, NOTIFICATION, NONE]:\n",
    "    print(f\"{cls}:\", round(100*(df_end_tweets[df_end_tweets['class'] == cls].shape[0]/df_end_tweets.shape[0]), 2), \"%\")"
   ],
   "metadata": {
    "pycharm": {
     "name": "#%%\n"
    },
    "colab": {
     "base_uri": "https://localhost:8080/"
    },
    "id": "3sashfBrk3x8",
    "executionInfo": {
     "status": "ok",
     "timestamp": 1686481031362,
     "user_tz": -120,
     "elapsed": 9,
     "user": {
      "displayName": "Computer Networks HHU",
      "userId": "05668673963966344466"
     }
    },
    "outputId": "06d59dcf-dbd3-49c3-cd81-33a532648015"
   }
  },
  {
   "cell_type": "code",
   "execution_count": null,
   "outputs": [],
   "source": [
    "df_argumentation = df_argumentation[df_argumentation['class'] != UNDECIDED]\n",
    "\n",
    "# read the individual conversations\n",
    "def get_pseudo_parents(df):\n",
    "    C = set(df.tweet_id)  # set of all children.\n",
    "    P = set(df.parent_id)  # set of all parents.\n",
    "    # those tweets only present as parent but never as a child.\n",
    "    onlyP = P.difference(C)\n",
    "    return onlyP\n",
    "\n",
    "assert df_argumentation.tweet_id.isin(df_decisions.index).all()\n",
    "\n",
    "onlyP = get_pseudo_parents(df_argumentation)\n",
    "df_onlyP = df_argumentation.loc[df_argumentation.parent_id.isin(onlyP)]\n",
    "df_argumentation.loc[df_onlyP.index, 'parent_id'] = df_onlyP.tweet_id\n",
    "\n",
    "assert df_argumentation.tweet_id.isin(df_decisions.index).all()\n",
    "assert df_argumentation.parent_id.isin(df_decisions.index).all()\n",
    "\n",
    "df_argumentation = df_argumentation.merge(\n",
    "    df_argumentation[['tweet_id', 'class']],\n",
    "    left_on='parent_id', right_on='tweet_id',\n",
    "    suffixes=('', '_parent')\n",
    ")\n",
    "df_argumentation = df_argumentation.drop(columns=['tweet_id_parent'])\n",
    "for _, row in df_argumentation.iterrows():\n",
    "    assert df_majority.loc[row.tweet_id]['class'] == row['class']\n",
    "    assert df_majority.loc[row.parent_id]['class'] == row['class_parent']\n",
    "\n",
    "assert df_argumentation.tweet_id.isin(df_decisions.index).all()\n",
    "assert df_argumentation.parent_id.isin(df_decisions.index).all()"
   ],
   "metadata": {
    "pycharm": {
     "name": "#%%\n"
    },
    "id": "fhy0Pveak3x8"
   }
  },
  {
   "cell_type": "code",
   "execution_count": null,
   "outputs": [
    {
     "output_type": "stream",
     "name": "stdout",
     "text": [
      "{\n",
      "    \"Reason\": {\n",
      "        \"Notification\": 0.31153184165232356,\n",
      "        \"Reason\": 0.5094664371772806,\n",
      "        \"Statement\": 0.12048192771084337,\n",
      "        \"None\": 0.058519793459552494\n",
      "    },\n",
      "    \"Notification\": {\n",
      "        \"None\": 0.088,\n",
      "        \"Notification\": 0.568,\n",
      "        \"Reason\": 0.264,\n",
      "        \"Statement\": 0.08\n",
      "    },\n",
      "    \"None\": {\n",
      "        \"Notification\": 0.4429347826086957,\n",
      "        \"Reason\": 0.26358695652173914,\n",
      "        \"Statement\": 0.07880434782608696,\n",
      "        \"None\": 0.21467391304347827\n",
      "    },\n",
      "    \"Statement\": {\n",
      "        \"Notification\": 0.3274647887323944,\n",
      "        \"Statement\": 0.2112676056338028,\n",
      "        \"Reason\": 0.38028169014084506,\n",
      "        \"None\": 0.08098591549295775\n",
      "    }\n",
      "}\n"
     ]
    }
   ],
   "source": [
    "def generate_transition_probabilities(pair_list):\n",
    "    transitions = {}\n",
    "    for i in range(len(pair_list)-1):\n",
    "        current = pair_list[i][0]\n",
    "        next = pair_list[i+1][1]\n",
    "        if current not in transitions:\n",
    "            transitions[current] = {}\n",
    "        if next not in transitions[current]:\n",
    "            transitions[current][next] = 0\n",
    "        transitions[current][next] += 1\n",
    "\n",
    "    for key in transitions:\n",
    "        total_count = sum(transitions[key].values())\n",
    "        for subkey in transitions[key]:\n",
    "            transitions[key][subkey] /= total_count\n",
    "\n",
    "    return transitions\n",
    "\n",
    "pairs = df_argumentation[['class', 'class_parent']].values\n",
    "\n",
    "transitions = generate_transition_probabilities(pairs)\n",
    "\n",
    "print(json.dumps(transitions, indent=4))"
   ],
   "metadata": {
    "pycharm": {
     "name": "#%%\n"
    },
    "colab": {
     "base_uri": "https://localhost:8080/"
    },
    "id": "v_FJC8EMk3x8",
    "executionInfo": {
     "status": "ok",
     "timestamp": 1686481031639,
     "user_tz": -120,
     "elapsed": 4,
     "user": {
      "displayName": "Computer Networks HHU",
      "userId": "05668673963966344466"
     }
    },
    "outputId": "b05fc629-7e28-4ba8-ebb1-3f257f063b11"
   }
  },
  {
   "cell_type": "code",
   "execution_count": null,
   "outputs": [
    {
     "output_type": "display_data",
     "data": {
      "text/plain": [
       "<Figure size 800x600 with 2 Axes>"
      ],
      "image/png": "[encoded data removed]"
     },
     "metadata": {}
    }
   ],
   "source": [
    "# convert the dictionary to a pandas dataframe and sort the rows and columns\n",
    "df = pd.DataFrame.from_dict(transitions)\n",
    "df = df.reindex(columns=order_of_label, index=order_of_label)\n",
    "\n",
    "# transpose the dataframe\n",
    "df = df.T\n",
    "\n",
    "# create the heatmap using seaborn\n",
    "fig, ax = plt.subplots(figsize=(8, 6))\n",
    "sns.heatmap(df, cmap='coolwarm', annot=True, linewidths=.5, ax=ax,\n",
    "            xticklabels=df.columns, yticklabels=df.index, \n",
    "            cbar_kws={'label': 'Probabilities'})\n",
    "plt.xlabel(r'$\\mathrm{C_r}$', fontsize=16)\n",
    "plt.ylabel(r'$\\mathrm{C_t}$', fontsize=16)\n",
    "ax.set_title(r'HMM: $\\mathrm{P(C_r|C_t)}$')\n",
    "plt.xticks(rotation=45)\n",
    "plt.yticks(rotation=0)\n",
    "plt.show()"
   ],
   "metadata": {
    "pycharm": {
     "name": "#%%\n"
    },
    "colab": {
     "base_uri": "https://localhost:8080/",
     "height": 649
    },
    "id": "YGuXZj-Mk3x9",
    "executionInfo": {
     "status": "ok",
     "timestamp": 1686481032299,
     "user_tz": -120,
     "elapsed": 662,
     "user": {
      "displayName": "Computer Networks HHU",
      "userId": "05668673963966344466"
     }
    },
    "outputId": "6b6b5afc-48f0-4db4-c395-9a306edff4a5"
   }
  },
  {
   "cell_type": "markdown",
   "source": [
    "# Textual Statistics"
   ],
   "metadata": {
    "collapsed": false,
    "pycharm": {
     "name": "#%% md\n"
    },
    "id": "A7kPDU4mk3x9"
   }
  },
  {
   "cell_type": "code",
   "execution_count": null,
   "outputs": [],
   "source": [
    "# opening JSON file\n",
    "with open('./data/url_dict.json') as json_file:\n",
    "    url_dict = json.load(json_file)"
   ],
   "metadata": {
    "pycharm": {
     "name": "#%%\n"
    },
    "id": "Yoaaxnwak3x-"
   }
  },
  {
   "cell_type": "code",
   "execution_count": null,
   "outputs": [
    {
     "output_type": "stream",
     "name": "stderr",
     "text": [
      "100%|██████████| 1734/1734 [00:04<00:00, 394.01it/s]\n",
      "100%|██████████| 1734/1734 [00:00<00:00, 6473.19it/s]\n",
      "100%|██████████| 1734/1734 [00:00<00:00, 5969.99it/s]\n",
      "100%|██████████| 1734/1734 [00:02<00:00, 588.03it/s]\n",
      "100%|██████████| 1734/1734 [00:00<00:00, 43538.71it/s]\n",
      "100%|██████████| 1734/1734 [00:00<00:00, 41518.04it/s]\n",
      "100%|██████████| 1734/1734 [00:00<00:00, 2090.24it/s]\n"
     ]
    }
   ],
   "source": [
    "def add_information(df):\n",
    "    df = df.copy()\n",
    "    nlp = English()\n",
    "\n",
    "    def process_url(tweet_text, lookup):\n",
    "        urls = extract_urls_with_indices(tweet_text)\n",
    "        has_external_url = any('twitter.com' not in url_dict.get(url['url'], None) for url in urls)\n",
    "        return int(has_external_url)\n",
    "\n",
    "    def process_emojis(tweet_text):\n",
    "        return len(extract_emojis_with_indices(tweet_text)) > 0\n",
    "\n",
    "    def detect_discourse_markers(text):\n",
    "        discourse_markers = [\"actually\", \"anyway\", \"basically\", \"certainly\", \"clearly\", \"consequently\", \"definitely\", \"evidently\",\n",
    "                     \"generally\", \"however\", \"incidentally\", \"indeed\", \"interestingly\", \"likewise\", \"meanwhile\", \"moreover\",\n",
    "                     \"nevertheless\", \"obviously\", \"overall\", \"personally\", \"previously\", \"really\", \"right\", \"so\", \"somehow\",\n",
    "                     \"sometimes\", \"specifically\", \"still\", \"technically\", \"therefore\", \"thus\", \"unfortunately\", \"well\", \"whatever\",\n",
    "                     \"whenever\", \"whereas\", \"whether\", \"while\", \"yet\"]\n",
    "        doc = nlp(text)\n",
    "        markers = []\n",
    "        for token in doc:\n",
    "            if token.lower_ in discourse_markers:\n",
    "                markers.append(token.lower_)\n",
    "        return markers\n",
    "    \n",
    "    df['length'] = df.progress_apply(lambda row: parse_tweet(row.text).weightedLength, axis=1)\n",
    "    df['urls'] = df.progress_apply(lambda row: len(extract_urls_with_indices(row.text)), axis=1)\n",
    "    df['has_external_url'] = df.progress_apply(lambda row: process_url(row.text, url_dict), axis=1)\n",
    "    df['emojis'] = df.progress_apply(lambda row: len(extract_emojis_with_indices(row.text)), axis=1)\n",
    "    df['hashtags'] = df.progress_apply(lambda row: Counter(row.text).get('#', 0), axis=1)\n",
    "    df['users'] = df.progress_apply(lambda row: Counter(row.text).get('@', 0), axis=1)\n",
    "    df['marker'] = df.progress_apply(lambda row: len(detect_discourse_markers(row.text)), axis=1)\n",
    "\n",
    "    return df\n",
    "\n",
    "df_argumentation = add_information(df_argumentation)"
   ],
   "metadata": {
    "pycharm": {
     "name": "#%%\n"
    },
    "colab": {
     "base_uri": "https://localhost:8080/"
    },
    "id": "a-x3PExwk3x-",
    "executionInfo": {
     "status": "ok",
     "timestamp": 1686481041350,
     "user_tz": -120,
     "elapsed": 9053,
     "user": {
      "displayName": "Computer Networks HHU",
      "userId": "05668673963966344466"
     }
    },
    "outputId": "9f04eb96-8dc9-413b-8c09-7c401755e261"
   }
  },
  {
   "cell_type": "code",
   "execution_count": null,
   "outputs": [
    {
     "output_type": "stream",
     "name": "stdout",
     "text": [
      "### length ###\n",
      "              mean length\n",
      "class                    \n",
      "Reason            212.806\n",
      "Statement         121.630\n",
      "Notification      156.462\n",
      "None               63.282 \n",
      "\n",
      "### urls ###\n",
      "              percent\n",
      "class                \n",
      "Reason           34.6\n",
      "Statement         8.1\n",
      "Notification     71.6\n",
      "None              7.6 \n",
      "\n",
      "### has_external_url ###\n",
      "              percent\n",
      "class                \n",
      "Reason           41.8\n",
      "Statement        17.4\n",
      "Notification     49.7\n",
      "None             17.9 \n",
      "\n",
      "### emojis ###\n",
      "              percent\n",
      "class                \n",
      "Reason           11.9\n",
      "Statement        14.1\n",
      "Notification     16.0\n",
      "None             35.8 \n",
      "\n",
      "### hashtags ###\n",
      "              percent\n",
      "class                \n",
      "Reason           45.8\n",
      "Statement        38.7\n",
      "Notification     60.0\n",
      "None             12.2 \n",
      "\n",
      "### users ###\n",
      "              percent\n",
      "class                \n",
      "Reason           65.9\n",
      "Statement        68.0\n",
      "Notification     56.4\n",
      "None             91.3 \n",
      "\n",
      "### marker ###\n",
      "              percent\n",
      "class                \n",
      "Reason           32.9\n",
      "Statement        19.0\n",
      "Notification     11.4\n",
      "None              8.7 \n",
      "\n"
     ]
    }
   ],
   "source": [
    "def summarize_types(df, variables=['length', 'urls', 'has_external_url', 'emojis', 'hashtags', 'users', 'marker']):\n",
    "    \"\"\"This method summarizes the structure of tweet types.\"\"\"\n",
    "    for variable in variables:\n",
    "        df_ = df.copy()\n",
    "        print(f'### {variable} ###')\n",
    "        if variable == 'has_external_url':\n",
    "            df_ = df_[df_.urls > 0]\n",
    "        if variable == 'length':\n",
    "            df_var = df_.groupby('class').sum()[variable]\n",
    "        else:\n",
    "            df_var = df_[df_[variable] > 0].groupby('class').count()['tweet_id']\n",
    "        df_var /= df_.groupby('class').count()['tweet_id']\n",
    "        \n",
    "        unit = 'percent'\n",
    "        if variable == 'length':\n",
    "            unit = 'mean length'\n",
    "        \n",
    "        df_var = df_var.to_frame(unit)\n",
    "        df_var[unit] = round(df_var[unit], 3)\n",
    "        \n",
    "        if unit == 'percent':\n",
    "            df_var[unit] *= 100\n",
    "        df_var = df_var.reindex(index=order_of_label)\n",
    "        print(df_var, '\\n')\n",
    "\n",
    "summarize_types(df_argumentation)"
   ],
   "metadata": {
    "pycharm": {
     "name": "#%%\n"
    },
    "colab": {
     "base_uri": "https://localhost:8080/"
    },
    "id": "ZSwPuVrjk3x_",
    "executionInfo": {
     "status": "ok",
     "timestamp": 1686481041705,
     "user_tz": -120,
     "elapsed": 363,
     "user": {
      "displayName": "Computer Networks HHU",
      "userId": "05668673963966344466"
     }
    },
    "outputId": "e8dac58f-0e5d-45e9-fb05-377f9d93faee"
   }
  },
  {
   "cell_type": "code",
   "execution_count": null,
   "outputs": [
    {
     "output_type": "display_data",
     "data": {
      "text/plain": [
       "<Figure size 1500x1100 with 4 Axes>"
      ],
      "image/png": "[encoded data removed]"
     },
     "metadata": {}
    }
   ],
   "source": [
    "fig, axes = plt.subplots(2, 2, figsize=(15, 11))\n",
    "\n",
    "for variable, ax, ay in [\n",
    "    ('length', 0, 0),\n",
    "    ('hashtags', 0, 1),\n",
    "    ('urls', 1, 0),\n",
    "    ('users', 1, 1)]:\n",
    "\n",
    "    kde = False\n",
    "    discrete = True\n",
    "    bins = 'auto'\n",
    "    legend = False\n",
    "    multiple = 'dodge'\n",
    "\n",
    "    if variable == 'length':\n",
    "        kde = True\n",
    "        discrete = False\n",
    "        multiple = 'layer'\n",
    "        bins = 20\n",
    "    \n",
    "    if ax == 1 and ay == 0:\n",
    "        legend = True\n",
    "\n",
    "    a = sns.histplot(ax=axes[ax,ay],\n",
    "                     data=df_argumentation.sort_values(by='class', key=lambda x: pd.Categorical(x, categories=order_of_label)),\n",
    "                     x=variable,\n",
    "                     bins=bins,\n",
    "                     kde=kde,\n",
    "                     multiple=multiple,\n",
    "                     shrink=.8,\n",
    "                     stat=\"percent\",\n",
    "                     discrete=discrete,\n",
    "                     hue=\"class\",\n",
    "                     common_norm=False,\n",
    "                     legend=legend,\n",
    "                     edgecolor=\"black\",\n",
    "                     linewidth=1)\n",
    "\n",
    "axes[0,0].set_xticks(range(0, 450, 50))\n",
    "axes[0,0].set_xlim((0, 400))\n",
    "axes[0,0].set(xlabel=\"Length\", ylabel=None)\n",
    "\n",
    "axes[0,1].set_xticks(range(0,3))\n",
    "axes[0,1].set_xlim((-0.5, 2.5))\n",
    "axes[0,1].set(xlabel=\"Hashtags\", ylabel=None)\n",
    "\n",
    "axes[1,0].set_xticks(range(0,5))\n",
    "axes[1,0].set_xlim((-0.7, 4.5))\n",
    "axes[1,0].set(xlabel=\"URLs\", ylabel=None)\n",
    "\n",
    "axes[1,1].set_xticks(range(0,5))\n",
    "axes[1,1].set_xlim((-0.7, 4.5))\n",
    "axes[1,1].set(xlabel=\"Users\", ylabel=None)\n",
    "\n",
    "fig.text(0.06, 0.5, '%', ha='center', va='center')\n",
    "sns.despine()\n",
    "sns.move_legend(\n",
    "    axes[1,0],\n",
    "    \"lower left\",\n",
    "    bbox_to_anchor=(0, -.22),\n",
    "    ncol=4,\n",
    "    title=None,\n",
    "    frameon=False,\n",
    "    edgecolor='k'\n",
    ")"
   ],
   "metadata": {
    "pycharm": {
     "name": "#%%\n"
    },
    "colab": {
     "base_uri": "https://localhost:8080/",
     "height": 982
    },
    "id": "uJ5HV0r0aVx8",
    "executionInfo": {
     "status": "ok",
     "timestamp": 1686481043173,
     "user_tz": -120,
     "elapsed": 1470,
     "user": {
      "displayName": "Computer Networks HHU",
      "userId": "05668673963966344466"
     }
    },
    "outputId": "bc07510e-f1ec-422d-8699-6caa0078615b"
   }
  }
 ],
 "metadata": {
  "kernelspec": {
   "display_name": "Python 3",
   "language": "python",
   "name": "python3"
  },
  "language_info": {
   "codemirror_mode": {
    "name": "ipython",
    "version": 2
   },
   "file_extension": ".py",
   "mimetype": "text/x-python",
   "name": "python",
   "nbconvert_exporter": "python",
   "pygments_lexer": "ipython2",
   "version": "2.7.6"
  },
  "colab": {
   "provenance": []
  },
  "gpuClass": "standard"
 },
 "nbformat": 4,
 "nbformat_minor": 0
}