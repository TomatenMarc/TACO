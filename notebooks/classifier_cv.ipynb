{
 "nbformat": 4,
 "nbformat_minor": 0,
 "metadata": {
  "colab": {
   "provenance": [],
   "mount_file_id": "15a1SyR18BavylX1hvWXhBDmHNYjGzatj",
   "authorship_tag": "ABX9TyN+ZRfcVVXi973YwNBOpTRZ"
  },
  "kernelspec": {
   "name": "python3",
   "display_name": "Python 3"
  },
  "language_info": {
   "name": "python"
  },
  "gpuClass": "standard"
 },
 "cells": [
  {
   "cell_type": "markdown",
   "source": [
    "# Requirements"
   ],
   "metadata": {
    "id": "adM1CPQ0ajWP",
    "pycharm": {
     "name": "#%% md\n"
    }
   }
  },
  {
   "cell_type": "code",
   "execution_count": 1,
   "outputs": [
    {
     "output_type": "stream",
     "name": "stdout",
     "text": [
      "Looking in indexes: https://pypi.org/simple, https://us-python.pkg.dev/colab-wheels/public/simple/\n",
      "Collecting simpletransformers\n",
      "  Downloading simpletransformers-0.63.11-py3-none-any.whl (250 kB)\n",
      "\u001B[2K     \u001B[90m━━━━━━━━━━━━━━━━━━━━━━━━━━━━━━━━━━━━━━━\u001B[0m \u001B[32m250.7/250.7 kB\u001B[0m \u001B[31m3.5 MB/s\u001B[0m eta \u001B[36m0:00:00\u001B[0m\n",
      "\u001B[?25hRequirement already satisfied: numpy in /usr/local/lib/python3.10/dist-packages (from simpletransformers) (1.22.4)\n",
      "Requirement already satisfied: requests in /usr/local/lib/python3.10/dist-packages (from simpletransformers) (2.27.1)\n",
      "Requirement already satisfied: tqdm>=4.47.0 in /usr/local/lib/python3.10/dist-packages (from simpletransformers) (4.65.0)\n",
      "Requirement already satisfied: regex in /usr/local/lib/python3.10/dist-packages (from simpletransformers) (2022.10.31)\n",
      "Collecting transformers>=4.6.0 (from simpletransformers)\n",
      "  Downloading transformers-4.29.1-py3-none-any.whl (7.1 MB)\n",
      "\u001B[2K     \u001B[90m━━━━━━━━━━━━━━━━━━━━━━━━━━━━━━━━━━━━━━━━\u001B[0m \u001B[32m7.1/7.1 MB\u001B[0m \u001B[31m56.7 MB/s\u001B[0m eta \u001B[36m0:00:00\u001B[0m\n",
      "\u001B[?25hCollecting datasets (from simpletransformers)\n",
      "  Downloading datasets-2.12.0-py3-none-any.whl (474 kB)\n",
      "\u001B[2K     \u001B[90m━━━━━━━━━━━━━━━━━━━━━━━━━━━━━━━━━━━━━━\u001B[0m \u001B[32m474.6/474.6 kB\u001B[0m \u001B[31m24.4 MB/s\u001B[0m eta \u001B[36m0:00:00\u001B[0m\n",
      "\u001B[?25hRequirement already satisfied: scipy in /usr/local/lib/python3.10/dist-packages (from simpletransformers) (1.10.1)\n",
      "Requirement already satisfied: scikit-learn in /usr/local/lib/python3.10/dist-packages (from simpletransformers) (1.2.2)\n",
      "Collecting seqeval (from simpletransformers)\n",
      "  Downloading seqeval-1.2.2.tar.gz (43 kB)\n",
      "\u001B[2K     \u001B[90m━━━━━━━━━━━━━━━━━━━━━━━━━━━━━━━━━━━━━━━━\u001B[0m \u001B[32m43.6/43.6 kB\u001B[0m \u001B[31m2.2 MB/s\u001B[0m eta \u001B[36m0:00:00\u001B[0m\n",
      "\u001B[?25h  Preparing metadata (setup.py) ... \u001B[?25l\u001B[?25hdone\n",
      "Requirement already satisfied: tensorboard in /usr/local/lib/python3.10/dist-packages (from simpletransformers) (2.12.2)\n",
      "Requirement already satisfied: pandas in /usr/local/lib/python3.10/dist-packages (from simpletransformers) (1.5.3)\n",
      "Collecting tokenizers (from simpletransformers)\n",
      "  Downloading tokenizers-0.13.3-cp310-cp310-manylinux_2_17_x86_64.manylinux2014_x86_64.whl (7.8 MB)\n",
      "\u001B[2K     \u001B[90m━━━━━━━━━━━━━━━━━━━━━━━━━━━━━━━━━━━━━━━━\u001B[0m \u001B[32m7.8/7.8 MB\u001B[0m \u001B[31m34.1 MB/s\u001B[0m eta \u001B[36m0:00:00\u001B[0m\n",
      "\u001B[?25hCollecting wandb>=0.10.32 (from simpletransformers)\n",
      "  Downloading wandb-0.15.2-py3-none-any.whl (2.0 MB)\n",
      "\u001B[2K     \u001B[90m━━━━━━━━━━━━━━━━━━━━━━━━━━━━━━━━━━━━━━━━\u001B[0m \u001B[32m2.0/2.0 MB\u001B[0m \u001B[31m16.6 MB/s\u001B[0m eta \u001B[36m0:00:00\u001B[0m\n",
      "\u001B[?25hCollecting streamlit (from simpletransformers)\n",
      "  Downloading streamlit-1.22.0-py2.py3-none-any.whl (8.9 MB)\n",
      "\u001B[2K     \u001B[90m━━━━━━━━━━━━━━━━━━━━━━━━━━━━━━━━━━━━━━━━\u001B[0m \u001B[32m8.9/8.9 MB\u001B[0m \u001B[31m34.7 MB/s\u001B[0m eta \u001B[36m0:00:00\u001B[0m\n",
      "\u001B[?25hCollecting sentencepiece (from simpletransformers)\n",
      "  Downloading sentencepiece-0.1.99-cp310-cp310-manylinux_2_17_x86_64.manylinux2014_x86_64.whl (1.3 MB)\n",
      "\u001B[2K     \u001B[90m━━━━━━━━━━━━━━━━━━━━━━━━━━━━━━━━━━━━━━━━\u001B[0m \u001B[32m1.3/1.3 MB\u001B[0m \u001B[31m19.9 MB/s\u001B[0m eta \u001B[36m0:00:00\u001B[0m\n",
      "\u001B[?25hRequirement already satisfied: filelock in /usr/local/lib/python3.10/dist-packages (from transformers>=4.6.0->simpletransformers) (3.12.0)\n",
      "Collecting huggingface-hub<1.0,>=0.14.1 (from transformers>=4.6.0->simpletransformers)\n",
      "  Downloading huggingface_hub-0.14.1-py3-none-any.whl (224 kB)\n",
      "\u001B[2K     \u001B[90m━━━━━━━━━━━━━━━━━━━━━━━━━━━━━━━━━━━━━━\u001B[0m \u001B[32m224.5/224.5 kB\u001B[0m \u001B[31m19.6 MB/s\u001B[0m eta \u001B[36m0:00:00\u001B[0m\n",
      "\u001B[?25hRequirement already satisfied: packaging>=20.0 in /usr/local/lib/python3.10/dist-packages (from transformers>=4.6.0->simpletransformers) (23.1)\n",
      "Requirement already satisfied: pyyaml>=5.1 in /usr/local/lib/python3.10/dist-packages (from transformers>=4.6.0->simpletransformers) (6.0)\n",
      "Requirement already satisfied: Click!=8.0.0,>=7.0 in /usr/local/lib/python3.10/dist-packages (from wandb>=0.10.32->simpletransformers) (8.1.3)\n",
      "Collecting GitPython!=3.1.29,>=1.0.0 (from wandb>=0.10.32->simpletransformers)\n",
      "  Downloading GitPython-3.1.31-py3-none-any.whl (184 kB)\n",
      "\u001B[2K     \u001B[90m━━━━━━━━━━━━━━━━━━━━━━━━━━━━━━━━━━━━━━\u001B[0m \u001B[32m184.3/184.3 kB\u001B[0m \u001B[31m11.0 MB/s\u001B[0m eta \u001B[36m0:00:00\u001B[0m\n",
      "\u001B[?25hRequirement already satisfied: psutil>=5.0.0 in /usr/local/lib/python3.10/dist-packages (from wandb>=0.10.32->simpletransformers) (5.9.5)\n",
      "Collecting sentry-sdk>=1.0.0 (from wandb>=0.10.32->simpletransformers)\n",
      "  Downloading sentry_sdk-1.22.2-py2.py3-none-any.whl (203 kB)\n",
      "\u001B[2K     \u001B[90m━━━━━━━━━━━━━━━━━━━━━━━━━━━━━━━━━━━━━━\u001B[0m \u001B[32m203.3/203.3 kB\u001B[0m \u001B[31m16.1 MB/s\u001B[0m eta \u001B[36m0:00:00\u001B[0m\n",
      "\u001B[?25hCollecting docker-pycreds>=0.4.0 (from wandb>=0.10.32->simpletransformers)\n",
      "  Downloading docker_pycreds-0.4.0-py2.py3-none-any.whl (9.0 kB)\n",
      "Collecting pathtools (from wandb>=0.10.32->simpletransformers)\n",
      "  Downloading pathtools-0.1.2.tar.gz (11 kB)\n",
      "  Preparing metadata (setup.py) ... \u001B[?25l\u001B[?25hdone\n",
      "Collecting setproctitle (from wandb>=0.10.32->simpletransformers)\n",
      "  Downloading setproctitle-1.3.2-cp310-cp310-manylinux_2_5_x86_64.manylinux1_x86_64.manylinux_2_17_x86_64.manylinux2014_x86_64.whl (30 kB)\n",
      "Requirement already satisfied: setuptools in /usr/local/lib/python3.10/dist-packages (from wandb>=0.10.32->simpletransformers) (67.7.2)\n",
      "Requirement already satisfied: appdirs>=1.4.3 in /usr/local/lib/python3.10/dist-packages (from wandb>=0.10.32->simpletransformers) (1.4.4)\n",
      "Requirement already satisfied: protobuf!=4.21.0,<5,>=3.19.0 in /usr/local/lib/python3.10/dist-packages (from wandb>=0.10.32->simpletransformers) (3.20.3)\n",
      "Requirement already satisfied: urllib3<1.27,>=1.21.1 in /usr/local/lib/python3.10/dist-packages (from requests->simpletransformers) (1.26.15)\n",
      "Requirement already satisfied: certifi>=2017.4.17 in /usr/local/lib/python3.10/dist-packages (from requests->simpletransformers) (2022.12.7)\n",
      "Requirement already satisfied: charset-normalizer~=2.0.0 in /usr/local/lib/python3.10/dist-packages (from requests->simpletransformers) (2.0.12)\n",
      "Requirement already satisfied: idna<4,>=2.5 in /usr/local/lib/python3.10/dist-packages (from requests->simpletransformers) (3.4)\n",
      "Requirement already satisfied: pyarrow>=8.0.0 in /usr/local/lib/python3.10/dist-packages (from datasets->simpletransformers) (9.0.0)\n",
      "Collecting dill<0.3.7,>=0.3.0 (from datasets->simpletransformers)\n",
      "  Downloading dill-0.3.6-py3-none-any.whl (110 kB)\n",
      "\u001B[2K     \u001B[90m━━━━━━━━━━━━━━━━━━━━━━━━━━━━━━━━━━━━━━━\u001B[0m \u001B[32m110.5/110.5 kB\u001B[0m \u001B[31m9.7 MB/s\u001B[0m eta \u001B[36m0:00:00\u001B[0m\n",
      "\u001B[?25hCollecting xxhash (from datasets->simpletransformers)\n",
      "  Downloading xxhash-3.2.0-cp310-cp310-manylinux_2_17_x86_64.manylinux2014_x86_64.whl (212 kB)\n",
      "\u001B[2K     \u001B[90m━━━━━━━━━━━━━━━━━━━━━━━━━━━━━━━━━━━━━━\u001B[0m \u001B[32m212.5/212.5 kB\u001B[0m \u001B[31m17.4 MB/s\u001B[0m eta \u001B[36m0:00:00\u001B[0m\n",
      "\u001B[?25hCollecting multiprocess (from datasets->simpletransformers)\n",
      "  Downloading multiprocess-0.70.14-py310-none-any.whl (134 kB)\n",
      "\u001B[2K     \u001B[90m━━━━━━━━━━━━━━━━━━━━━━━━━━━━━━━━━━━━━━\u001B[0m \u001B[32m134.3/134.3 kB\u001B[0m \u001B[31m13.0 MB/s\u001B[0m eta \u001B[36m0:00:00\u001B[0m\n",
      "\u001B[?25hRequirement already satisfied: fsspec[http]>=2021.11.1 in /usr/local/lib/python3.10/dist-packages (from datasets->simpletransformers) (2023.4.0)\n",
      "Collecting aiohttp (from datasets->simpletransformers)\n",
      "  Downloading aiohttp-3.8.4-cp310-cp310-manylinux_2_17_x86_64.manylinux2014_x86_64.whl (1.0 MB)\n",
      "\u001B[2K     \u001B[90m━━━━━━━━━━━━━━━━━━━━━━━━━━━━━━━━━━━━━━━━\u001B[0m \u001B[32m1.0/1.0 MB\u001B[0m \u001B[31m34.5 MB/s\u001B[0m eta \u001B[36m0:00:00\u001B[0m\n",
      "\u001B[?25hCollecting responses<0.19 (from datasets->simpletransformers)\n",
      "  Downloading responses-0.18.0-py3-none-any.whl (38 kB)\n",
      "Requirement already satisfied: python-dateutil>=2.8.1 in /usr/local/lib/python3.10/dist-packages (from pandas->simpletransformers) (2.8.2)\n",
      "Requirement already satisfied: pytz>=2020.1 in /usr/local/lib/python3.10/dist-packages (from pandas->simpletransformers) (2022.7.1)\n",
      "Requirement already satisfied: joblib>=1.1.1 in /usr/local/lib/python3.10/dist-packages (from scikit-learn->simpletransformers) (1.2.0)\n",
      "Requirement already satisfied: threadpoolctl>=2.0.0 in /usr/local/lib/python3.10/dist-packages (from scikit-learn->simpletransformers) (3.1.0)\n",
      "Requirement already satisfied: altair<5,>=3.2.0 in /usr/local/lib/python3.10/dist-packages (from streamlit->simpletransformers) (4.2.2)\n",
      "Collecting blinker>=1.0.0 (from streamlit->simpletransformers)\n",
      "  Downloading blinker-1.6.2-py3-none-any.whl (13 kB)\n",
      "Requirement already satisfied: cachetools>=4.0 in /usr/local/lib/python3.10/dist-packages (from streamlit->simpletransformers) (5.3.0)\n",
      "Collecting importlib-metadata>=1.4 (from streamlit->simpletransformers)\n",
      "  Downloading importlib_metadata-6.6.0-py3-none-any.whl (22 kB)\n",
      "Requirement already satisfied: pillow>=6.2.0 in /usr/local/lib/python3.10/dist-packages (from streamlit->simpletransformers) (8.4.0)\n",
      "Collecting pympler>=0.9 (from streamlit->simpletransformers)\n",
      "  Downloading Pympler-1.0.1-py3-none-any.whl (164 kB)\n",
      "\u001B[2K     \u001B[90m━━━━━━━━━━━━━━━━━━━━━━━━━━━━━━━━━━━━━━\u001B[0m \u001B[32m164.8/164.8 kB\u001B[0m \u001B[31m14.0 MB/s\u001B[0m eta \u001B[36m0:00:00\u001B[0m\n",
      "\u001B[?25hRequirement already satisfied: rich>=10.11.0 in /usr/local/lib/python3.10/dist-packages (from streamlit->simpletransformers) (13.3.4)\n",
      "Requirement already satisfied: tenacity<9,>=8.0.0 in /usr/local/lib/python3.10/dist-packages (from streamlit->simpletransformers) (8.2.2)\n",
      "Requirement already satisfied: toml in /usr/local/lib/python3.10/dist-packages (from streamlit->simpletransformers) (0.10.2)\n",
      "Requirement already satisfied: typing-extensions>=3.10.0.0 in /usr/local/lib/python3.10/dist-packages (from streamlit->simpletransformers) (4.5.0)\n",
      "Requirement already satisfied: tzlocal>=1.1 in /usr/local/lib/python3.10/dist-packages (from streamlit->simpletransformers) (4.3)\n",
      "Collecting validators>=0.2 (from streamlit->simpletransformers)\n",
      "  Downloading validators-0.20.0.tar.gz (30 kB)\n",
      "  Preparing metadata (setup.py) ... \u001B[?25l\u001B[?25hdone\n",
      "Collecting pydeck>=0.1.dev5 (from streamlit->simpletransformers)\n",
      "  Downloading pydeck-0.8.1b0-py2.py3-none-any.whl (4.8 MB)\n",
      "\u001B[2K     \u001B[90m━━━━━━━━━━━━━━━━━━━━━━━━━━━━━━━━━━━━━━━━\u001B[0m \u001B[32m4.8/4.8 MB\u001B[0m \u001B[31m29.6 MB/s\u001B[0m eta \u001B[36m0:00:00\u001B[0m\n",
      "\u001B[?25hRequirement already satisfied: tornado>=6.0.3 in /usr/local/lib/python3.10/dist-packages (from streamlit->simpletransformers) (6.2)\n",
      "Collecting watchdog (from streamlit->simpletransformers)\n",
      "  Downloading watchdog-3.0.0-py3-none-manylinux2014_x86_64.whl (82 kB)\n",
      "\u001B[2K     \u001B[90m━━━━━━━━━━━━━━━━━━━━━━━━━━━━━━━━━━━━━━━━\u001B[0m \u001B[32m82.1/82.1 kB\u001B[0m \u001B[31m3.7 MB/s\u001B[0m eta \u001B[36m0:00:00\u001B[0m\n",
      "\u001B[?25hRequirement already satisfied: absl-py>=0.4 in /usr/local/lib/python3.10/dist-packages (from tensorboard->simpletransformers) (1.4.0)\n",
      "Requirement already satisfied: grpcio>=1.48.2 in /usr/local/lib/python3.10/dist-packages (from tensorboard->simpletransformers) (1.54.0)\n",
      "Requirement already satisfied: google-auth<3,>=1.6.3 in /usr/local/lib/python3.10/dist-packages (from tensorboard->simpletransformers) (2.17.3)\n",
      "Requirement already satisfied: google-auth-oauthlib<1.1,>=0.5 in /usr/local/lib/python3.10/dist-packages (from tensorboard->simpletransformers) (1.0.0)\n",
      "Requirement already satisfied: markdown>=2.6.8 in /usr/local/lib/python3.10/dist-packages (from tensorboard->simpletransformers) (3.4.3)\n",
      "Requirement already satisfied: tensorboard-data-server<0.8.0,>=0.7.0 in /usr/local/lib/python3.10/dist-packages (from tensorboard->simpletransformers) (0.7.0)\n",
      "Requirement already satisfied: tensorboard-plugin-wit>=1.6.0 in /usr/local/lib/python3.10/dist-packages (from tensorboard->simpletransformers) (1.8.1)\n",
      "Requirement already satisfied: werkzeug>=1.0.1 in /usr/local/lib/python3.10/dist-packages (from tensorboard->simpletransformers) (2.3.0)\n",
      "Requirement already satisfied: wheel>=0.26 in /usr/local/lib/python3.10/dist-packages (from tensorboard->simpletransformers) (0.40.0)\n",
      "Requirement already satisfied: entrypoints in /usr/local/lib/python3.10/dist-packages (from altair<5,>=3.2.0->streamlit->simpletransformers) (0.4)\n",
      "Requirement already satisfied: jinja2 in /usr/local/lib/python3.10/dist-packages (from altair<5,>=3.2.0->streamlit->simpletransformers) (3.1.2)\n",
      "Requirement already satisfied: jsonschema>=3.0 in /usr/local/lib/python3.10/dist-packages (from altair<5,>=3.2.0->streamlit->simpletransformers) (4.3.3)\n",
      "Requirement already satisfied: toolz in /usr/local/lib/python3.10/dist-packages (from altair<5,>=3.2.0->streamlit->simpletransformers) (0.12.0)\n",
      "Requirement already satisfied: six>=1.4.0 in /usr/local/lib/python3.10/dist-packages (from docker-pycreds>=0.4.0->wandb>=0.10.32->simpletransformers) (1.16.0)\n",
      "Requirement already satisfied: attrs>=17.3.0 in /usr/local/lib/python3.10/dist-packages (from aiohttp->datasets->simpletransformers) (23.1.0)\n",
      "Collecting multidict<7.0,>=4.5 (from aiohttp->datasets->simpletransformers)\n",
      "  Downloading multidict-6.0.4-cp310-cp310-manylinux_2_17_x86_64.manylinux2014_x86_64.whl (114 kB)\n",
      "\u001B[2K     \u001B[90m━━━━━━━━━━━━━━━━━━━━━━━━━━━━━━━━━━━━━━━\u001B[0m \u001B[32m114.5/114.5 kB\u001B[0m \u001B[31m8.1 MB/s\u001B[0m eta \u001B[36m0:00:00\u001B[0m\n",
      "\u001B[?25hCollecting async-timeout<5.0,>=4.0.0a3 (from aiohttp->datasets->simpletransformers)\n",
      "  Downloading async_timeout-4.0.2-py3-none-any.whl (5.8 kB)\n",
      "Collecting yarl<2.0,>=1.0 (from aiohttp->datasets->simpletransformers)\n",
      "  Downloading yarl-1.9.2-cp310-cp310-manylinux_2_17_x86_64.manylinux2014_x86_64.whl (268 kB)\n",
      "\u001B[2K     \u001B[90m━━━━━━━━━━━━━━━━━━━━━━━━━━━━━━━━━━━━━━\u001B[0m \u001B[32m268.8/268.8 kB\u001B[0m \u001B[31m23.4 MB/s\u001B[0m eta \u001B[36m0:00:00\u001B[0m\n",
      "\u001B[?25hCollecting frozenlist>=1.1.1 (from aiohttp->datasets->simpletransformers)\n",
      "  Downloading frozenlist-1.3.3-cp310-cp310-manylinux_2_5_x86_64.manylinux1_x86_64.manylinux_2_17_x86_64.manylinux2014_x86_64.whl (149 kB)\n",
      "\u001B[2K     \u001B[90m━━━━━━━━━━━━━━━━━━━━━━━━━━━━━━━━━━━━━━\u001B[0m \u001B[32m149.6/149.6 kB\u001B[0m \u001B[31m14.3 MB/s\u001B[0m eta \u001B[36m0:00:00\u001B[0m\n",
      "\u001B[?25hCollecting aiosignal>=1.1.2 (from aiohttp->datasets->simpletransformers)\n",
      "  Downloading aiosignal-1.3.1-py3-none-any.whl (7.6 kB)\n",
      "Collecting gitdb<5,>=4.0.1 (from GitPython!=3.1.29,>=1.0.0->wandb>=0.10.32->simpletransformers)\n",
      "  Downloading gitdb-4.0.10-py3-none-any.whl (62 kB)\n",
      "\u001B[2K     \u001B[90m━━━━━━━━━━━━━━━━━━━━━━━━━━━━━━━━━━━━━━━━\u001B[0m \u001B[32m62.7/62.7 kB\u001B[0m \u001B[31m4.5 MB/s\u001B[0m eta \u001B[36m0:00:00\u001B[0m\n",
      "\u001B[?25hRequirement already satisfied: pyasn1-modules>=0.2.1 in /usr/local/lib/python3.10/dist-packages (from google-auth<3,>=1.6.3->tensorboard->simpletransformers) (0.3.0)\n",
      "Requirement already satisfied: rsa<5,>=3.1.4 in /usr/local/lib/python3.10/dist-packages (from google-auth<3,>=1.6.3->tensorboard->simpletransformers) (4.9)\n",
      "Requirement already satisfied: requests-oauthlib>=0.7.0 in /usr/local/lib/python3.10/dist-packages (from google-auth-oauthlib<1.1,>=0.5->tensorboard->simpletransformers) (1.3.1)\n",
      "Requirement already satisfied: zipp>=0.5 in /usr/local/lib/python3.10/dist-packages (from importlib-metadata>=1.4->streamlit->simpletransformers) (3.15.0)\n",
      "Requirement already satisfied: markdown-it-py<3.0.0,>=2.2.0 in /usr/local/lib/python3.10/dist-packages (from rich>=10.11.0->streamlit->simpletransformers) (2.2.0)\n",
      "Requirement already satisfied: pygments<3.0.0,>=2.13.0 in /usr/local/lib/python3.10/dist-packages (from rich>=10.11.0->streamlit->simpletransformers) (2.14.0)\n",
      "Requirement already satisfied: pytz-deprecation-shim in /usr/local/lib/python3.10/dist-packages (from tzlocal>=1.1->streamlit->simpletransformers) (0.1.0.post0)\n",
      "Requirement already satisfied: decorator>=3.4.0 in /usr/local/lib/python3.10/dist-packages (from validators>=0.2->streamlit->simpletransformers) (4.4.2)\n",
      "Requirement already satisfied: MarkupSafe>=2.1.1 in /usr/local/lib/python3.10/dist-packages (from werkzeug>=1.0.1->tensorboard->simpletransformers) (2.1.2)\n",
      "Collecting smmap<6,>=3.0.1 (from gitdb<5,>=4.0.1->GitPython!=3.1.29,>=1.0.0->wandb>=0.10.32->simpletransformers)\n",
      "  Downloading smmap-5.0.0-py3-none-any.whl (24 kB)\n",
      "Requirement already satisfied: pyrsistent!=0.17.0,!=0.17.1,!=0.17.2,>=0.14.0 in /usr/local/lib/python3.10/dist-packages (from jsonschema>=3.0->altair<5,>=3.2.0->streamlit->simpletransformers) (0.19.3)\n",
      "Requirement already satisfied: mdurl~=0.1 in /usr/local/lib/python3.10/dist-packages (from markdown-it-py<3.0.0,>=2.2.0->rich>=10.11.0->streamlit->simpletransformers) (0.1.2)\n",
      "Requirement already satisfied: pyasn1<0.6.0,>=0.4.6 in /usr/local/lib/python3.10/dist-packages (from pyasn1-modules>=0.2.1->google-auth<3,>=1.6.3->tensorboard->simpletransformers) (0.5.0)\n",
      "Requirement already satisfied: oauthlib>=3.0.0 in /usr/local/lib/python3.10/dist-packages (from requests-oauthlib>=0.7.0->google-auth-oauthlib<1.1,>=0.5->tensorboard->simpletransformers) (3.2.2)\n",
      "Requirement already satisfied: tzdata in /usr/local/lib/python3.10/dist-packages (from pytz-deprecation-shim->tzlocal>=1.1->streamlit->simpletransformers) (2023.3)\n",
      "Building wheels for collected packages: seqeval, validators, pathtools\n",
      "  Building wheel for seqeval (setup.py) ... \u001B[?25l\u001B[?25hdone\n",
      "  Created wheel for seqeval: filename=seqeval-1.2.2-py3-none-any.whl size=16165 sha256=6221cec7d0279f7acb7bc5dac023aed794309ff9fc75561607230a6d6e2d98fe\n",
      "  Stored in directory: /root/.cache/pip/wheels/1a/67/4a/ad4082dd7dfc30f2abfe4d80a2ed5926a506eb8a972b4767fa\n",
      "  Building wheel for validators (setup.py) ... \u001B[?25l\u001B[?25hdone\n",
      "  Created wheel for validators: filename=validators-0.20.0-py3-none-any.whl size=19579 sha256=4678093696cf5a54ec80c4c759e466d8e9737c8fccfa28bf2e3fb77d779aaec7\n",
      "  Stored in directory: /root/.cache/pip/wheels/f2/ed/dd/d3a556ad245ef9dc570c6bcd2f22886d17b0b408dd3bbb9ac3\n",
      "  Building wheel for pathtools (setup.py) ... \u001B[?25l\u001B[?25hdone\n",
      "  Created wheel for pathtools: filename=pathtools-0.1.2-py3-none-any.whl size=8791 sha256=82f9577268af4318f32eb0e0a26b1407df5a3d02a35db995cfaa4925298143ea\n",
      "  Stored in directory: /root/.cache/pip/wheels/e7/f3/22/152153d6eb222ee7a56ff8617d80ee5207207a8c00a7aab794\n",
      "Successfully built seqeval validators pathtools\n",
      "Installing collected packages: tokenizers, sentencepiece, pathtools, xxhash, watchdog, validators, smmap, setproctitle, sentry-sdk, pympler, multidict, importlib-metadata, frozenlist, docker-pycreds, dill, blinker, async-timeout, yarl, responses, pydeck, multiprocess, huggingface-hub, gitdb, aiosignal, transformers, seqeval, GitPython, aiohttp, wandb, streamlit, datasets, simpletransformers\n",
      "Successfully installed GitPython-3.1.31 aiohttp-3.8.4 aiosignal-1.3.1 async-timeout-4.0.2 blinker-1.6.2 datasets-2.12.0 dill-0.3.6 docker-pycreds-0.4.0 frozenlist-1.3.3 gitdb-4.0.10 huggingface-hub-0.14.1 importlib-metadata-6.6.0 multidict-6.0.4 multiprocess-0.70.14 pathtools-0.1.2 pydeck-0.8.1b0 pympler-1.0.1 responses-0.18.0 sentencepiece-0.1.99 sentry-sdk-1.22.2 seqeval-1.2.2 setproctitle-1.3.2 simpletransformers-0.63.11 smmap-5.0.0 streamlit-1.22.0 tokenizers-0.13.3 transformers-4.29.1 validators-0.20.0 wandb-0.15.2 watchdog-3.0.0 xxhash-3.2.0 yarl-1.9.2\n",
      "Looking in indexes: https://pypi.org/simple, https://us-python.pkg.dev/colab-wheels/public/simple/\n",
      "Collecting emoji\n",
      "  Downloading emoji-2.2.0.tar.gz (240 kB)\n",
      "\u001B[2K     \u001B[90m━━━━━━━━━━━━━━━━━━━━━━━━━━━━━━━━━━━━━━━\u001B[0m \u001B[32m240.9/240.9 kB\u001B[0m \u001B[31m8.5 MB/s\u001B[0m eta \u001B[36m0:00:00\u001B[0m\n",
      "\u001B[?25h  Preparing metadata (setup.py) ... \u001B[?25l\u001B[?25hdone\n",
      "Building wheels for collected packages: emoji\n",
      "  Building wheel for emoji (setup.py) ... \u001B[?25l\u001B[?25hdone\n",
      "  Created wheel for emoji: filename=emoji-2.2.0-py3-none-any.whl size=234911 sha256=297317110f307ccd0ef7bd4ecfade0571b8041d739919ebb661d457e6328d22f\n",
      "  Stored in directory: /root/.cache/pip/wheels/02/3d/88/51a592b9ad17e7899126563698b4e3961983ebe85747228ba6\n",
      "Successfully built emoji\n",
      "Installing collected packages: emoji\n",
      "Successfully installed emoji-2.2.0\n",
      "Looking in indexes: https://pypi.org/simple, https://us-python.pkg.dev/colab-wheels/public/simple/\n",
      "Collecting contractions\n",
      "  Downloading contractions-0.1.73-py2.py3-none-any.whl (8.7 kB)\n",
      "Collecting textsearch>=0.0.21 (from contractions)\n",
      "  Downloading textsearch-0.0.24-py2.py3-none-any.whl (7.6 kB)\n",
      "Collecting anyascii (from textsearch>=0.0.21->contractions)\n",
      "  Downloading anyascii-0.3.2-py3-none-any.whl (289 kB)\n",
      "\u001B[2K     \u001B[90m━━━━━━━━━━━━━━━━━━━━━━━━━━━━━━━━━━━━━━━\u001B[0m \u001B[32m289.9/289.9 kB\u001B[0m \u001B[31m8.5 MB/s\u001B[0m eta \u001B[36m0:00:00\u001B[0m\n",
      "\u001B[?25hCollecting pyahocorasick (from textsearch>=0.0.21->contractions)\n",
      "  Downloading pyahocorasick-2.0.0-cp310-cp310-manylinux_2_5_x86_64.manylinux1_x86_64.manylinux_2_12_x86_64.manylinux2010_x86_64.whl (110 kB)\n",
      "\u001B[2K     \u001B[90m━━━━━━━━━━━━━━━━━━━━━━━━━━━━━━━━━━━━━━\u001B[0m \u001B[32m110.8/110.8 kB\u001B[0m \u001B[31m12.6 MB/s\u001B[0m eta \u001B[36m0:00:00\u001B[0m\n",
      "\u001B[?25hInstalling collected packages: pyahocorasick, anyascii, textsearch, contractions\n",
      "Successfully installed anyascii-0.3.2 contractions-0.1.73 pyahocorasick-2.0.0 textsearch-0.0.24\n",
      "Looking in indexes: https://pypi.org/simple, https://us-python.pkg.dev/colab-wheels/public/simple/\n",
      "Collecting twitter-text-parser\n",
      "  Downloading twitter-text-parser-2.0.0.tar.gz (59 kB)\n",
      "\u001B[2K     \u001B[90m━━━━━━━━━━━━━━━━━━━━━━━━━━━━━━━━━━━━━━━━\u001B[0m \u001B[32m59.7/59.7 kB\u001B[0m \u001B[31m5.5 MB/s\u001B[0m eta \u001B[36m0:00:00\u001B[0m\n",
      "\u001B[?25h  Preparing metadata (setup.py) ... \u001B[?25l\u001B[?25hdone\n",
      "Collecting attrs~=19.3.0 (from twitter-text-parser)\n",
      "  Downloading attrs-19.3.0-py2.py3-none-any.whl (39 kB)\n",
      "Building wheels for collected packages: twitter-text-parser\n",
      "  Building wheel for twitter-text-parser (setup.py) ... \u001B[?25l\u001B[?25hdone\n",
      "  Created wheel for twitter-text-parser: filename=twitter_text_parser-2.0.0-py3-none-any.whl size=69302 sha256=f109c48629928baaaa13c5c648b2c14afdf04c1c232a20ee99bf3044a8f1dab6\n",
      "  Stored in directory: /root/.cache/pip/wheels/a4/84/6b/deea1d7be44affe71c92ceee99d4e1967cc363924e977d767c\n",
      "Successfully built twitter-text-parser\n",
      "Installing collected packages: attrs, twitter-text-parser\n",
      "  Attempting uninstall: attrs\n",
      "    Found existing installation: attrs 23.1.0\n",
      "    Uninstalling attrs-23.1.0:\n",
      "      Successfully uninstalled attrs-23.1.0\n",
      "Successfully installed attrs-19.3.0 twitter-text-parser-2.0.0\n"
     ]
    }
   ],
   "source": [
    "! pip install simpletransformers\n",
    "! pip install emoji\n",
    "! pip install contractions\n",
    "! pip install twitter-text-parser"
   ],
   "metadata": {
    "pycharm": {
     "name": "#%%\n"
    },
    "colab": {
     "base_uri": "https://localhost:8080/"
    },
    "id": "MN9R2hQGUORt",
    "executionInfo": {
     "status": "ok",
     "timestamp": 1683899541765,
     "user_tz": -120,
     "elapsed": 77438,
     "user": {
      "displayName": "Computer Networks HHU",
      "userId": "05668673963966344466"
     }
    },
    "outputId": "28aec449-a02a-4d92-f001-6f61751e51ce"
   }
  },
  {
   "cell_type": "code",
   "execution_count": 2,
   "outputs": [],
   "source": [
    "import json\n",
    "import os\n",
    "from tqdm import tqdm; tqdm.pandas()\n",
    "import pandas as pd\n",
    "from emoji import demojize\n",
    "from nltk.tokenize import TweetTokenizer\n",
    "from sklearn.model_selection import StratifiedKFold\n",
    "from simpletransformers.classification import ClassificationModel\n",
    "import torch\n",
    "import contractions\n",
    "from sklearn.metrics import confusion_matrix, ConfusionMatrixDisplay\n",
    "import matplotlib.pyplot as plt\n",
    "from sklearn.metrics import classification_report\n",
    "import json\n",
    "from twitter_text import parse_tweet, extract_urls_with_indices, extract_emojis_with_indices\n",
    "from collections import Counter\n",
    "import spacy\n",
    "from spacy.lang.en import English"
   ],
   "metadata": {
    "pycharm": {
     "name": "#%%\n"
    },
    "id": "JBDoWFhRUORu",
    "executionInfo": {
     "status": "ok",
     "timestamp": 1683899572731,
     "user_tz": -120,
     "elapsed": 30971,
     "user": {
      "displayName": "Computer Networks HHU",
      "userId": "05668673963966344466"
     }
    }
   }
  },
  {
   "cell_type": "code",
   "execution_count": 3,
   "outputs": [
    {
     "output_type": "stream",
     "name": "stdout",
     "text": [
      "/content/drive/MyDrive/Colab Notebooks/Feger/twitter-taco-dataset\n"
     ]
    }
   ],
   "source": [
    "%cd /content/drive/MyDrive/Colab Notebooks/Feger/twitter-taco-dataset"
   ],
   "metadata": {
    "pycharm": {
     "name": "#%%\n"
    },
    "colab": {
     "base_uri": "https://localhost:8080/"
    },
    "id": "pjYX_QUSUORv",
    "executionInfo": {
     "status": "ok",
     "timestamp": 1683899573898,
     "user_tz": -120,
     "elapsed": 1170,
     "user": {
      "displayName": "Computer Networks HHU",
      "userId": "05668673963966344466"
     }
    },
    "outputId": "3b749684-f594-4cd9-bd5a-9d9db5a4ceda"
   }
  },
  {
   "cell_type": "code",
   "execution_count": 4,
   "outputs": [],
   "source": [
    "ARGUMENT = 'Argument'\n",
    "NOARGUMENT = 'No-Argument'\n",
    "\n",
    "NONE = \"None\"\n",
    "NOTIFICATION = \"Notification\"\n",
    "STATEMENT = \"Statement\"\n",
    "REASON = \"Reason\"\n",
    "\n",
    "category2id = {REASON: 0, STATEMENT: 1, NOTIFICATION: 2, NONE: 3}\n",
    "class2id = {NOARGUMENT: 0, ARGUMENT: 1}\n",
    "\n",
    "UNDECIDED = 'Undecided'\n",
    "\n",
    "CV_OUTPUT = './outputs/bertweet_cv_predictions.csv'"
   ],
   "metadata": {
    "pycharm": {
     "name": "#%%\n"
    },
    "id": "haY4GU5mUORv",
    "executionInfo": {
     "status": "ok",
     "timestamp": 1683899573899,
     "user_tz": -120,
     "elapsed": 6,
     "user": {
      "displayName": "Computer Networks HHU",
      "userId": "05668673963966344466"
     }
    }
   }
  },
  {
   "cell_type": "markdown",
   "source": [
    "# Data Preparation"
   ],
   "metadata": {
    "collapsed": false,
    "pycharm": {
     "name": "#%% md\n"
    },
    "id": "CfmGzkv7UORw"
   }
  },
  {
   "cell_type": "code",
   "execution_count": 5,
   "outputs": [],
   "source": [
    "tokenizer = TweetTokenizer()\n",
    "\n",
    "def normalizeToken(token):\n",
    "    lowercased_token = token.lower()\n",
    "    if token.startswith(\"@\"):\n",
    "        return \"@USER\"\n",
    "    elif lowercased_token.startswith(\"http\") or lowercased_token.startswith(\"www\"):\n",
    "        return \"HTTPURL\"\n",
    "    elif len(token) == 1:\n",
    "        return demojize(token)\n",
    "    else:\n",
    "        if token == \"’\":\n",
    "            return \"'\"\n",
    "        elif token == \"…\":\n",
    "            return \"...\"\n",
    "        else:\n",
    "            return contractions.fix(token)\n",
    "\n",
    "def normalizeTweet(tweet):\n",
    "    tokens = tokenizer.tokenize(tweet.replace(\"’\", \"'\").replace(\"…\", \"...\"))\n",
    "    normTweet = \" \".join([normalizeToken(token) for token in tokens])\n",
    "\n",
    "    normTweet = (\n",
    "        normTweet.replace(\"cannot \", \"can not \")\n",
    "        .replace(\"n't \", \" n't \")\n",
    "        .replace(\"n 't \", \" n't \")\n",
    "        .replace(\"ca n't\", \"can't\")\n",
    "        .replace(\"ai n't\", \"ain't\")\n",
    "    )\n",
    "    normTweet = (\n",
    "        normTweet.replace(\"'m \", \" 'm \")\n",
    "        .replace(\"'re \", \" 're \")\n",
    "        .replace(\"'s \", \" 's \")\n",
    "        .replace(\"'ll \", \" 'll \")\n",
    "        .replace(\"'d \", \" 'd \")\n",
    "        .replace(\"'ve \", \" 've \")\n",
    "    )\n",
    "    normTweet = (\n",
    "        normTweet.replace(\" p . m .\", \"  p.m.\")\n",
    "        .replace(\" p . m \", \" p.m \")\n",
    "        .replace(\" a . m .\", \" a.m.\")\n",
    "        .replace(\" a . m \", \" a.m \")\n",
    "    )\n",
    "\n",
    "    return \" \".join(normTweet.split())"
   ],
   "metadata": {
    "pycharm": {
     "name": "#%%\n"
    },
    "id": "p-VKdtumUORw",
    "executionInfo": {
     "status": "ok",
     "timestamp": 1683899573899,
     "user_tz": -120,
     "elapsed": 5,
     "user": {
      "displayName": "Computer Networks HHU",
      "userId": "05668673963966344466"
     }
    }
   }
  },
  {
   "cell_type": "code",
   "execution_count": 6,
   "outputs": [
    {
     "output_type": "stream",
     "name": "stderr",
     "text": [
      "100%|██████████| 1734/1734 [00:01<00:00, 1453.11it/s]\n"
     ]
    }
   ],
   "source": [
    "df_majority = pd.read_csv('./data/majority_votes.csv', index_col='tweet_id')\n",
    "df_backup = pd.read_csv('./data/backup_tweets.csv', index_col='tweet_id', lineterminator='\\n')\n",
    "\n",
    "df_majority = df_majority[df_majority['category'] != UNDECIDED].copy()\n",
    "df_majority['category'] = df_majority.category.replace(category2id)\n",
    "df_majority = df_majority.merge(right=df_backup, on='tweet_id')\n",
    "df_majority['text'] = df_majority.progress_apply(lambda row: normalizeTweet(row.text), axis=1)"
   ],
   "metadata": {
    "pycharm": {
     "name": "#%%\n"
    },
    "colab": {
     "base_uri": "https://localhost:8080/"
    },
    "id": "0OQ8upgoUORx",
    "executionInfo": {
     "status": "ok",
     "timestamp": 1683899583586,
     "user_tz": -120,
     "elapsed": 9691,
     "user": {
      "displayName": "Computer Networks HHU",
      "userId": "05668673963966344466"
     }
    },
    "outputId": "113e84b9-d1d8-4c7c-eb0e-70031662a57d"
   }
  },
  {
   "cell_type": "markdown",
   "source": [
    "# Cross-Validation"
   ],
   "metadata": {
    "collapsed": false,
    "pycharm": {
     "name": "#%% md\n"
    },
    "id": "SiFp7rmCUORx"
   }
  },
  {
   "cell_type": "code",
   "execution_count": 7,
   "outputs": [],
   "source": [
    "skf = StratifiedKFold(n_splits=10, random_state=123456789, shuffle=True)\n",
    "\n",
    "df_predictions = pd.DataFrame()\n",
    "\n",
    "model_args = {\n",
    "    \"num_train_epochs\": 5,\n",
    "    \"train_batch_size\": 8,\n",
    "    \"eval_batch_size\": 8,\n",
    "    \"learning_rate\": 4e-5,\n",
    "    \"save_model_every_epoch\": False,\n",
    "    \"save_eval_checkpoints\": False,\n",
    "    \"overwrite_output_dir\": True,\n",
    "    \"no_cache\": True,\n",
    "    \"no_save\": True\n",
    "}\n",
    "\n",
    "if not os.path.exists(CV_OUTPUT):\n",
    "\n",
    "    for train_index, test_index in skf.split(df_majority, df_majority.category):\n",
    "        df_train = df_majority.iloc[train_index][['text', 'category']].copy()\n",
    "        df_test = df_majority.iloc[test_index][['text', 'category']].copy()\n",
    "        \n",
    "        simple_transformer = ClassificationModel('bertweet',\n",
    "                                                 'vinai/bertweet-base',\n",
    "                                                 use_cuda=torch.cuda.is_available(),\n",
    "                                                 num_labels=4,\n",
    "                                                 args=model_args)\n",
    "    \n",
    "        simple_transformer.train_model(df_train)\n",
    "        predictions, _ = simple_transformer.predict(df_test.text.to_list())\n",
    "        df_test['category_pred'] = predictions\n",
    "        df_predictions = pd.concat([df_predictions, df_test[['category', 'category_pred']]])\n",
    "\n",
    "    assert df_predictions.sort_index().index.equals(df_majority.sort_index().index)\n",
    "    assert df_predictions.index.shape[0] == df_majority.index.shape[0]\n",
    "    assert sorted(set(df_predictions.index)) == sorted(set(df_majority.index))\n",
    "\n",
    "    df_predictions.to_csv(CV_OUTPUT)"
   ],
   "metadata": {
    "pycharm": {
     "name": "#%%\n"
    },
    "id": "2wGTLjGhUORx",
    "executionInfo": {
     "status": "ok",
     "timestamp": 1683899583587,
     "user_tz": -120,
     "elapsed": 5,
     "user": {
      "displayName": "Computer Networks HHU",
      "userId": "05668673963966344466"
     }
    }
   }
  },
  {
   "cell_type": "markdown",
   "source": [
    "# Evaluation"
   ],
   "metadata": {
    "collapsed": false,
    "pycharm": {
     "name": "#%% md\n"
    },
    "id": "Ei9T6Ia_UORz"
   }
  },
  {
   "cell_type": "code",
   "execution_count": 8,
   "outputs": [],
   "source": [
    "df_validation = pd.read_csv(CV_OUTPUT)\n",
    "df_validation = df_validation.set_index('tweet_id')\n",
    "\n",
    "assert sorted(df_majority.index) == sorted(df_validation.index)\n",
    "assert sorted(df_validation.index) == sorted(df_majority.index)\n",
    "\n",
    "for tweet_id in df_majority.index:\n",
    "    assert df_majority.loc[tweet_id].category == df_validation.loc[tweet_id].category\n",
    "\n",
    "df_validation = df_validation.merge(df_backup, on=['tweet_id'])\n",
    "\n",
    "y_true = df_validation.category.to_list()\n",
    "y_pred = df_validation.category_pred.to_list()\n",
    "\n",
    "y_true_bin = [y in [category2id[REASON], category2id[STATEMENT]] for y in y_true]\n",
    "y_pred_bin = [y in [category2id[REASON], category2id[STATEMENT]] for y in y_pred]"
   ],
   "metadata": {
    "pycharm": {
     "name": "#%%\n"
    },
    "id": "Z8509uxKUORz",
    "executionInfo": {
     "status": "ok",
     "timestamp": 1683899584848,
     "user_tz": -120,
     "elapsed": 1264,
     "user": {
      "displayName": "Computer Networks HHU",
      "userId": "05668673963966344466"
     }
    }
   }
  },
  {
   "cell_type": "code",
   "execution_count": 9,
   "outputs": [
    {
     "output_type": "stream",
     "name": "stdout",
     "text": [
      "              precision    recall  f1-score   support\n",
      "\n",
      " No-Argument     0.8666    0.8297    0.8477       869\n",
      "    Argument     0.8359    0.8717    0.8534       865\n",
      "\n",
      "    accuracy                         0.8506      1734\n",
      "   macro avg     0.8513    0.8507    0.8506      1734\n",
      "weighted avg     0.8513    0.8506    0.8506      1734\n",
      "\n"
     ]
    }
   ],
   "source": [
    "# binary classification evaluation\n",
    "print(classification_report(y_true_bin, y_pred_bin, target_names=class2id.keys(), digits=4))"
   ],
   "metadata": {
    "pycharm": {
     "name": "#%%\n"
    },
    "colab": {
     "base_uri": "https://localhost:8080/"
    },
    "id": "S678exEwUORz",
    "executionInfo": {
     "status": "ok",
     "timestamp": 1683899584849,
     "user_tz": -120,
     "elapsed": 11,
     "user": {
      "displayName": "Computer Networks HHU",
      "userId": "05668673963966344466"
     }
    },
    "outputId": "806d411a-eac6-4afa-8618-46e75c4ea872"
   }
  },
  {
   "cell_type": "code",
   "execution_count": 10,
   "outputs": [
    {
     "output_type": "stream",
     "name": "stdout",
     "text": [
      "              precision    recall  f1-score   support\n",
      "\n",
      "      Reason     0.7369    0.7522    0.7445       581\n",
      "   Statement     0.5437    0.5915    0.5666       284\n",
      "Notification     0.7902    0.7760    0.7830       500\n",
      "        None     0.8387    0.7751    0.8056       369\n",
      "\n",
      "    accuracy                         0.7376      1734\n",
      "   macro avg     0.7274    0.7237    0.7249      1734\n",
      "weighted avg     0.7423    0.7376    0.7395      1734\n",
      "\n"
     ]
    }
   ],
   "source": [
    "# multi-class classification evaluation\n",
    "print(classification_report(y_true, y_pred, target_names=category2id.keys(), digits=4))"
   ],
   "metadata": {
    "pycharm": {
     "name": "#%%\n"
    },
    "colab": {
     "base_uri": "https://localhost:8080/"
    },
    "id": "Vr75UYMqUOR0",
    "executionInfo": {
     "status": "ok",
     "timestamp": 1683899584849,
     "user_tz": -120,
     "elapsed": 9,
     "user": {
      "displayName": "Computer Networks HHU",
      "userId": "05668673963966344466"
     }
    },
    "outputId": "b6a9eb62-6a84-419e-ff6d-f449fce96f9c"
   }
  },
  {
   "cell_type": "code",
   "execution_count": 11,
   "outputs": [
    {
     "output_type": "execute_result",
     "data": {
      "text/plain": [
       "<sklearn.metrics._plot.confusion_matrix.ConfusionMatrixDisplay at 0x7f5988817a60>"
      ]
     },
     "metadata": {},
     "execution_count": 11
    },
    {
     "output_type": "display_data",
     "data": {
      "text/plain": [
       "<Figure size 640x480 with 2 Axes>"
      ],
      "image/png": "[encoded data removed]"
     },
     "metadata": {}
    }
   ],
   "source": [
    "# y_true is a 1D array of true class labels, and y_pred is a 1D array of predicted class labels\n",
    "cm = confusion_matrix(y_true, y_pred)\n",
    "\n",
    "# display the confusion matrix\n",
    "disp = ConfusionMatrixDisplay(confusion_matrix=cm, display_labels=category2id.keys())\n",
    "disp.plot(xticks_rotation=45)"
   ],
   "metadata": {
    "pycharm": {
     "name": "#%%\n"
    },
    "colab": {
     "base_uri": "https://localhost:8080/",
     "height": 519
    },
    "id": "sJllegWMUOR0",
    "executionInfo": {
     "status": "ok",
     "timestamp": 1683899586536,
     "user_tz": -120,
     "elapsed": 1693,
     "user": {
      "displayName": "Computer Networks HHU",
      "userId": "05668673963966344466"
     }
    },
    "outputId": "de9df55a-3a8e-48c7-d1b1-4fc67a97dc24"
   }
  },
  {
   "cell_type": "code",
   "execution_count": 12,
   "outputs": [],
   "source": [
    "# error tracing\n",
    "with open('./data/url_dict.json') as json_file:\n",
    "    url_dict = json.load(json_file)\n",
    "\n",
    "def add_information(df):\n",
    "    df = df.copy()\n",
    "    nlp = English()\n",
    "\n",
    "    def process_url(tweet_text, lookup):\n",
    "        urls = extract_urls_with_indices(tweet_text)\n",
    "        has_external_url = any('twitter.com' not in url_dict.get(url['url'], None) for url in urls)\n",
    "        return int(has_external_url)\n",
    "\n",
    "    def process_emojis(tweet_text):\n",
    "        return len(extract_emojis_with_indices(tweet_text)) > 0\n",
    "\n",
    "    def detect_discourse_markers(text):\n",
    "        discourse_markers = [\"actually\", \"anyway\", \"basically\", \"certainly\", \"clearly\", \"consequently\", \"definitely\", \"evidently\",\n",
    "                     \"generally\", \"however\", \"incidentally\", \"indeed\", \"interestingly\", \"likewise\", \"meanwhile\", \"moreover\",\n",
    "                     \"nevertheless\", \"obviously\", \"overall\", \"personally\", \"previously\", \"really\", \"right\", \"so\", \"somehow\",\n",
    "                     \"sometimes\", \"specifically\", \"still\", \"technically\", \"therefore\", \"thus\", \"unfortunately\", \"well\", \"whatever\",\n",
    "                     \"whenever\", \"whereas\", \"whether\", \"while\", \"yet\"]\n",
    "        doc = nlp(text)\n",
    "        markers = []\n",
    "        for token in doc:\n",
    "            if token.lower_ in discourse_markers:\n",
    "                markers.append(token.lower_)\n",
    "        return markers\n",
    "    \n",
    "    df['length'] = df.progress_apply(lambda row: parse_tweet(row.text).weightedLength, axis=1)\n",
    "    df['urls'] = df.progress_apply(lambda row: len(extract_urls_with_indices(row.text)), axis=1)\n",
    "    df['has_external_url'] = df.progress_apply(lambda row: process_url(row.text, url_dict), axis=1)\n",
    "    df['emojis'] = df.progress_apply(lambda row: len(extract_emojis_with_indices(row.text)), axis=1)\n",
    "    df['hashtags'] = df.progress_apply(lambda row: Counter(row.text).get('#', 0), axis=1)\n",
    "    df['users'] = df.progress_apply(lambda row: Counter(row.text).get('@', 0), axis=1)\n",
    "    df['marker'] = df.progress_apply(lambda row: len(detect_discourse_markers(row.text)), axis=1)\n",
    "\n",
    "    return df"
   ],
   "metadata": {
    "pycharm": {
     "name": "#%%\n"
    },
    "id": "lsYB9hyUUOR0",
    "executionInfo": {
     "status": "ok",
     "timestamp": 1683899586537,
     "user_tz": -120,
     "elapsed": 5,
     "user": {
      "displayName": "Computer Networks HHU",
      "userId": "05668673963966344466"
     }
    }
   }
  },
  {
   "cell_type": "code",
   "execution_count": 13,
   "outputs": [
    {
     "output_type": "stream",
     "name": "stderr",
     "text": [
      "100%|██████████| 86/86 [00:00<00:00, 287.05it/s]\n",
      "100%|██████████| 86/86 [00:00<00:00, 3063.75it/s]\n",
      "100%|██████████| 86/86 [00:00<00:00, 4703.30it/s]\n",
      "100%|██████████| 86/86 [00:00<00:00, 284.96it/s]\n",
      "100%|██████████| 86/86 [00:00<00:00, 14017.96it/s]\n",
      "100%|██████████| 86/86 [00:00<00:00, 10459.00it/s]\n",
      "100%|██████████| 86/86 [00:00<00:00, 282.62it/s]\n"
     ]
    }
   ],
   "source": [
    "df_missclassification = add_information(df_validation[(df_validation.category == category2id[STATEMENT]) & \n",
    "                                       (\n",
    "                                           (df_validation.category_pred == category2id[REASON]) |\n",
    "                                           (df_validation.category_pred == category2id[NOTIFICATION])\n",
    "                                       )])"
   ],
   "metadata": {
    "pycharm": {
     "name": "#%%\n"
    },
    "colab": {
     "base_uri": "https://localhost:8080/"
    },
    "id": "tllAV7k0UOR1",
    "executionInfo": {
     "status": "ok",
     "timestamp": 1683899588728,
     "user_tz": -120,
     "elapsed": 2195,
     "user": {
      "displayName": "Computer Networks HHU",
      "userId": "05668673963966344466"
     }
    },
    "outputId": "ce86a54e-e5c4-49f4-d70f-7297bc56e5f9"
   }
  },
  {
   "cell_type": "code",
   "execution_count": 14,
   "outputs": [
    {
     "output_type": "stream",
     "name": "stderr",
     "text": [
      "100%|██████████| 284/284 [00:00<00:00, 288.62it/s]\n",
      "100%|██████████| 284/284 [00:00<00:00, 9267.59it/s]\n",
      "100%|██████████| 284/284 [00:00<00:00, 8519.52it/s]\n",
      "100%|██████████| 284/284 [00:00<00:00, 436.87it/s]\n",
      "100%|██████████| 284/284 [00:00<00:00, 10259.17it/s]\n",
      "100%|██████████| 284/284 [00:00<00:00, 20835.79it/s]\n",
      "100%|██████████| 284/284 [00:00<00:00, 792.51it/s]"
     ]
    },
    {
     "output_type": "stream",
     "name": "stdout",
     "text": [
      "\n",
      "Characteristics class Statement:\n",
      "Mean Length: 121.63028169014085\n",
      " % urls > 0: 8.1\n",
      "     % external > 0: 17.39\n",
      " % marker > 0: 19.01\n",
      "Miss-classifications for class Statement:\n",
      "Mean Length: 171.8139534883721\n",
      " % urls > 0: 22.09\n",
      "     % external > 0: 15.79\n",
      " % marker > 0: 24.42\n"
     ]
    },
    {
     "output_type": "stream",
     "name": "stderr",
     "text": [
      "\n"
     ]
    }
   ],
   "source": [
    "df_statement = add_information(df_validation[df_validation.category == category2id[STATEMENT]])\n",
    "print(\"\\nCharacteristics class Statement:\")\n",
    "print(\"Mean Length:\", df_statement['length'].describe()['mean'])\n",
    "print(\" % urls > 0:\", round(100*(df_statement[df_statement.urls > 0].shape[0]/df_statement.shape[0]), 2))\n",
    "print(\"     % external > 0:\", round(100*(df_statement[(df_statement.urls > 0) & (df_statement.has_external_url > 0)].shape[0]/df_statement[df_statement.urls > 0].shape[0]), 2))\n",
    "print(\" % marker > 0:\", round(100*(df_statement[df_statement.marker > 0].shape[0]/df_statement.shape[0]), 2))\n",
    "\n",
    "\n",
    "print(\"Miss-classifications for class Statement:\")\n",
    "print(\"Mean Length:\", df_missclassification['length'].describe()['mean'])\n",
    "print(\" % urls > 0:\", round(100*(df_missclassification[df_missclassification.urls > 0].shape[0]/df_missclassification.shape[0]), 2))\n",
    "print(\"     % external > 0:\", round(100*(df_missclassification[(df_missclassification.urls > 0) & (df_missclassification.has_external_url > 0)].shape[0]/df_missclassification[df_missclassification.urls > 0].shape[0]), 2))\n",
    "print(\" % marker > 0:\", round(100*(df_missclassification[df_missclassification.marker > 0].shape[0]/df_missclassification.shape[0]), 2))"
   ],
   "metadata": {
    "pycharm": {
     "name": "#%%\n"
    },
    "colab": {
     "base_uri": "https://localhost:8080/"
    },
    "id": "gl0SRcziUOR1",
    "executionInfo": {
     "status": "ok",
     "timestamp": 1683899590752,
     "user_tz": -120,
     "elapsed": 2032,
     "user": {
      "displayName": "Computer Networks HHU",
      "userId": "05668673963966344466"
     }
    },
    "outputId": "a7bc5875-7e82-4c1d-b66d-4bee488ca861"
   }
  }
 ]
}